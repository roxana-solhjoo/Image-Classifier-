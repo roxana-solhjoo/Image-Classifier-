{
  "cells": [
    {
      "cell_type": "code",
      "execution_count": null,
      "metadata": {
        "id": "YBgf7PhYkRQI"
      },
      "outputs": [],
      "source": [
        "import tensorflow as tf\n",
        "import matplotlib.pyplot as plt\n",
        "import numpy as np\n",
        "import os\n",
        "import tensorflow_datasets as tfds\n",
        "import datetime\n",
        "import sklearn\n",
        "from sklearn.metrics import confusion_matrix, classification_report\n",
        "import seaborn as sns\n",
        "\n",
        "\n"
      ]
    },
    {
      "cell_type": "markdown",
      "metadata": {
        "id": "1fOoBAaDFu-Y"
      },
      "source": [
        "##Loading the data"
      ]
    },
    {
      "cell_type": "code",
      "execution_count": null,
      "metadata": {
        "id": "FMextGDcke_2",
        "colab": {
          "base_uri": "https://localhost:8080/",
          "height": 269,
          "referenced_widgets": [
            "f5dd0b74db1b418685a1ba60a0cf1e0f",
            "9280d7e6b4214c049ad139ed8919d9ec",
            "7719d59df03c49f7a0d86ac2a05f168a",
            "ec9e55ccaf7a4d698645cc927c2851c5",
            "3035586e39634529989f89fe4548ac81",
            "55c929167503479da48a0564046edd6c",
            "12541bd812e94017a12188419645b153",
            "987ba59abffc4852b3a08fc8e9346a9e",
            "f8c7c6aa73874dccb45d2e5f207896b1",
            "b4cceb4f4a034beea8864adccb386876",
            "a7afac346208451ba3bcf508d1552909",
            "2f44ef04fbe7444f81a2c6697ee0e5be",
            "a3e4a95fd5d64f1d8ba3610bea9e0c9c",
            "994062a841c14b599394bb006cbac336",
            "dbcc3903f3034beb83f4d7627509bb01",
            "b2d36e8beace4f03a61c3eb15069f6ec",
            "e30adc73b2a64a6f8cbe89e475ab9e14",
            "7854d8b37e9c4a00912221150d9aed5a",
            "60613a4a34f34be08c966187d4d7dfb2",
            "983a31c151c840c0af7614551344a3c9",
            "5c819308f1f24c5393bd96f93723be02",
            "1d0fd96d29cb4607924e60abffc4bec3",
            "e6c48a0ff9c54d6cae2f8f40062142a0",
            "1051546b3fc34797a1c22750c070ff58",
            "09dcbe3c4b0241438fd7e4103d0a4aa4",
            "8e4622faae6443398e00fc6daad838d8",
            "e70db6430e1145d9a9b5459618a620b6",
            "2905f75e5dd342a6a089e72321186c09",
            "d752873c2860427089287db00ba0128b",
            "2563e79823324c22b4b6a9645e1751b3",
            "02a7ead6b0c5420c907d60308be7a06b",
            "d98fcf3e221b4169b6c0f564e09c5422",
            "a970b541f10d4a8d9817a7833dc397e0",
            "2398a241380f4ee9b5fa89048cb2f607",
            "4b835473eda943ce855fc5d1ff349aa7",
            "56f08bad690e4f9eb8996f34f088d542",
            "d07b1dea86b444779e9389297fdcf978",
            "41c3bf5963524497aaed4a6c58294273",
            "d8758aae99f6440a9866fcc9e823e8f9",
            "b6e8d6d4b62c497faf3041c6328e24cb",
            "c8dee46eca62485aabf0b1830970c6c8",
            "e002ca9301d041fea94e43ed14c13740",
            "df53c27fbd234846b3f0f2d48be74f0d",
            "9b79517f143242769ea69240e831e785",
            "b950018e77d94732b538910993752714",
            "6431ececa7304fb1870ae68450e42c20",
            "de646c49dfd54e51bcbd2195fdf916c9",
            "9928762ab29e4aaba22654b8a238f0a6",
            "a001149f6af0495eacf2bf93c8863917",
            "7b052ed755554d7084089ac786683658",
            "3238e7c7821b467ab3cf098b1d3131f3",
            "a703d7403f4242baa5679a466867fabc",
            "4a6261c5591a485eb54c94f8149442a8",
            "e64d75c1cfed42d59b811a5015336de0",
            "d0cb6e9187b14a9f82c7743325f439e7",
            "4a3b9ad040e04fb9ab8874860c2e192f",
            "56da17bb7fca429fb0809fca75ee75d3",
            "843acac1cb22485fb6b01b13410c1a15",
            "adc0015744354f749923babd462a94e0",
            "fbd3c4f5dd4a4c6cba47bbdf5195f1df",
            "f882031fd96b477e8a7579497f8e3737",
            "82a617f004324bd39bdd3ab500f49b27",
            "51f7b8a5681043e1987dc00f07d4389e",
            "ba8c333d9e6a465399878c15ba64eb69",
            "6a496f52727646eda1884f9976c7141d",
            "a95966d7b67646a5b62ad4a3d1c1a45a"
          ]
        },
        "outputId": "b50dce8b-4472-4088-be58-f35687dcac82"
      },
      "outputs": [
        {
          "output_type": "stream",
          "name": "stdout",
          "text": [
            "\u001b[1mDownloading and preparing dataset rock_paper_scissors/3.0.0 (download: 219.53 MiB, generated: Unknown size, total: 219.53 MiB) to tmp/rock_paper_scissors/3.0.0...\u001b[0m\n"
          ]
        },
        {
          "output_type": "display_data",
          "data": {
            "text/plain": [
              "Dl Completed...: 0 url [00:00, ? url/s]"
            ],
            "application/vnd.jupyter.widget-view+json": {
              "version_major": 2,
              "version_minor": 0,
              "model_id": "f5dd0b74db1b418685a1ba60a0cf1e0f"
            }
          },
          "metadata": {}
        },
        {
          "output_type": "display_data",
          "data": {
            "text/plain": [
              "Dl Size...: 0 MiB [00:00, ? MiB/s]"
            ],
            "application/vnd.jupyter.widget-view+json": {
              "version_major": 2,
              "version_minor": 0,
              "model_id": "2f44ef04fbe7444f81a2c6697ee0e5be"
            }
          },
          "metadata": {}
        },
        {
          "output_type": "stream",
          "name": "stdout",
          "text": [
            "\n",
            "\n"
          ]
        },
        {
          "output_type": "display_data",
          "data": {
            "text/plain": [
              "0 examples [00:00, ? examples/s]"
            ],
            "application/vnd.jupyter.widget-view+json": {
              "version_major": 2,
              "version_minor": 0,
              "model_id": "e6c48a0ff9c54d6cae2f8f40062142a0"
            }
          },
          "metadata": {}
        },
        {
          "output_type": "stream",
          "name": "stdout",
          "text": [
            "Shuffling and writing examples to tmp/rock_paper_scissors/3.0.0.incompleteI74KRU/rock_paper_scissors-train.tfrecord\n"
          ]
        },
        {
          "output_type": "display_data",
          "data": {
            "text/plain": [
              "  0%|          | 0/2520 [00:00<?, ? examples/s]"
            ],
            "application/vnd.jupyter.widget-view+json": {
              "version_major": 2,
              "version_minor": 0,
              "model_id": "2398a241380f4ee9b5fa89048cb2f607"
            }
          },
          "metadata": {}
        },
        {
          "output_type": "display_data",
          "data": {
            "text/plain": [
              "0 examples [00:00, ? examples/s]"
            ],
            "application/vnd.jupyter.widget-view+json": {
              "version_major": 2,
              "version_minor": 0,
              "model_id": "b950018e77d94732b538910993752714"
            }
          },
          "metadata": {}
        },
        {
          "output_type": "stream",
          "name": "stdout",
          "text": [
            "Shuffling and writing examples to tmp/rock_paper_scissors/3.0.0.incompleteI74KRU/rock_paper_scissors-test.tfrecord\n"
          ]
        },
        {
          "output_type": "display_data",
          "data": {
            "text/plain": [
              "  0%|          | 0/372 [00:00<?, ? examples/s]"
            ],
            "application/vnd.jupyter.widget-view+json": {
              "version_major": 2,
              "version_minor": 0,
              "model_id": "4a3b9ad040e04fb9ab8874860c2e192f"
            }
          },
          "metadata": {}
        },
        {
          "output_type": "stream",
          "name": "stdout",
          "text": [
            "\u001b[1mDataset rock_paper_scissors downloaded and prepared to tmp/rock_paper_scissors/3.0.0. Subsequent calls will reuse this data.\u001b[0m\n"
          ]
        }
      ],
      "source": [
        "DATASET_NAME = 'rock_paper_scissors'\n",
        "(dataset_train_raw, dataset_test_raw), dataset_info = tfds.load(\n",
        "    name = DATASET_NAME,\n",
        "    data_dir ='tmp',\n",
        "    with_info = True,\n",
        "    as_supervised =True,\n",
        "    split=[tfds.Split.TRAIN, tfds.Split.TEST]\n",
        ")"
      ]
    },
    {
      "cell_type": "code",
      "execution_count": null,
      "metadata": {
        "colab": {
          "base_uri": "https://localhost:8080/"
        },
        "id": "XpXCuS9lFdY2",
        "outputId": "dc688fe2-ab40-4997-b9b9-3746dfd1b0c0"
      },
      "outputs": [
        {
          "output_type": "execute_result",
          "data": {
            "text/plain": [
              "tfds.core.DatasetInfo(\n",
              "    name='rock_paper_scissors',\n",
              "    version=3.0.0,\n",
              "    description='Images of hands playing rock, paper, scissor game.',\n",
              "    homepage='http://laurencemoroney.com/rock-paper-scissors-dataset',\n",
              "    features=FeaturesDict({\n",
              "        'image': Image(shape=(300, 300, 3), dtype=tf.uint8),\n",
              "        'label': ClassLabel(shape=(), dtype=tf.int64, num_classes=3),\n",
              "    }),\n",
              "    total_num_examples=2892,\n",
              "    splits={\n",
              "        'test': 372,\n",
              "        'train': 2520,\n",
              "    },\n",
              "    supervised_keys=('image', 'label'),\n",
              "    citation=\"\"\"@ONLINE {rps,\n",
              "    author = \"Laurence Moroney\",\n",
              "    title = \"Rock, Paper, Scissors Dataset\",\n",
              "    month = \"feb\",\n",
              "    year = \"2019\",\n",
              "    url = \"http://laurencemoroney.com/rock-paper-scissors-dataset\"\n",
              "    }\"\"\",\n",
              "    redistribution_info=,\n",
              ")"
            ]
          },
          "metadata": {},
          "execution_count": 3
        }
      ],
      "source": [
        "dataset_info"
      ]
    },
    {
      "cell_type": "code",
      "execution_count": null,
      "metadata": {
        "id": "0mwPKgOTklPO"
      },
      "outputs": [],
      "source": [
        "def dataset_to_numpy(ds):\n",
        "  \n",
        "   images=[]\n",
        "   labels=[]\n",
        "   for i,(image,label) in enumerate(tfds.as_numpy(ds)):\n",
        "      images.append(image)\n",
        "      labels.append(label)\n",
        "\n",
        "   for i,img in enumerate(images):\n",
        "      if i<3:\n",
        "          print(img.shape,labels[i])\n",
        "\n",
        "   return images,labels   "
      ]
    },
    {
      "cell_type": "markdown",
      "metadata": {
        "id": "qvhaMf8UFi2f"
      },
      "source": [
        "##Split the dataset to train, validation and test sets"
      ]
    },
    {
      "cell_type": "markdown",
      "metadata": {
        "id": "AdCpR4F3SyJy"
      },
      "source": [
        "We already have splited the \"roc paper scisser\" data to \"dataset_train_raw\" and \"dataset_test_raw\" data sets when we had loaded the data, but here we are convering the the tensorfelow training and test datasets to numpy arrays and splitting the \"dataset_test_raw\" to validation and test sets, indicated as  \"valid_images\" and \"test_images\".\n",
        "\n"
      ]
    },
    {
      "cell_type": "code",
      "execution_count": null,
      "metadata": {
        "colab": {
          "base_uri": "https://localhost:8080/"
        },
        "id": "mnkaycUYJy47",
        "outputId": "669804a8-cf93-41ab-e9f0-bdef1b961306"
      },
      "outputs": [
        {
          "output_type": "stream",
          "name": "stdout",
          "text": [
            "(300, 300, 3) 2\n",
            "(300, 300, 3) 2\n",
            "(300, 300, 3) 0\n",
            "(300, 300, 3) 2\n",
            "(300, 300, 3) 1\n",
            "(300, 300, 3) 2\n",
            "(2520, 300, 300, 3) (186, 300, 300, 3) (186, 300, 300, 3)\n",
            "(2520,) (186,) (186,)\n"
          ]
        }
      ],
      "source": [
        "train_images, train_labels = dataset_to_numpy(dataset_train_raw)\n",
        "train_images = np.array(train_images)\n",
        "train_labels = np.array(train_labels)\n",
        "\n",
        "valid_test_images, valid_test_labels = dataset_to_numpy(dataset_test_raw)\n",
        "valid_test_images = np.array(valid_test_images)\n",
        "valid_test_labels = np.array(valid_test_labels)\n",
        "\n",
        "valid_images = valid_test_images[:186]\n",
        "valid_labels = valid_test_labels[:186]\n",
        "test_images = valid_test_images[186:]\n",
        "test_labels = valid_test_labels[186:]\n",
        "\n",
        "\n",
        "print(train_images.shape, valid_images.shape, test_images.shape)\n",
        "print(train_labels.shape, valid_labels.shape, test_labels.shape)"
      ]
    },
    {
      "cell_type": "markdown",
      "metadata": {
        "id": "Yoziv1-I2irE"
      },
      "source": [
        "#Getting the number of classes"
      ]
    },
    {
      "cell_type": "code",
      "execution_count": null,
      "metadata": {
        "colab": {
          "base_uri": "https://localhost:8080/"
        },
        "id": "PTySxlv42Q0F",
        "outputId": "1c9da170-2a5e-40dd-a9a8-39920e02bea6"
      },
      "outputs": [
        {
          "output_type": "stream",
          "name": "stdout",
          "text": [
            "3\n"
          ]
        }
      ],
      "source": [
        "num_classes = dataset_info.features['label'].num_classes\n",
        "print(num_classes)"
      ]
    },
    {
      "cell_type": "markdown",
      "metadata": {
        "id": "4uXDH5zhHpWg"
      },
      "source": [
        "# Function to convert label ID to labels string."
      ]
    },
    {
      "cell_type": "code",
      "execution_count": null,
      "metadata": {
        "colab": {
          "base_uri": "https://localhost:8080/"
        },
        "id": "R0gutZnBHo5P",
        "outputId": "d36be91d-8c9f-4194-ec43-9b19d609dedb"
      },
      "outputs": [
        {
          "output_type": "stream",
          "name": "stdout",
          "text": [
            "rock\n",
            "paper\n",
            "scissors\n"
          ]
        }
      ],
      "source": [
        "get_label_name = dataset_info.features['label'].int2str\n",
        "print(get_label_name(0));\n",
        "print(get_label_name(1));\n",
        "print(get_label_name(2));"
      ]
    },
    {
      "cell_type": "markdown",
      "metadata": {
        "id": "nihro4FWIDtp"
      },
      "source": [
        "##Visualizing the traning dataset"
      ]
    },
    {
      "cell_type": "code",
      "execution_count": null,
      "metadata": {
        "id": "m1MmKrITF18K"
      },
      "outputs": [],
      "source": [
        "def preview_dataset(dataset):\n",
        "    plt.figure(figsize=(12, 12))\n",
        "    plot_index = 0\n",
        "    for imgs in dataset.take(12):\n",
        "        (image, label) = imgs\n",
        "        plot_index += 1\n",
        "        plt.subplot(3, 4, plot_index)\n",
        "        label = get_label_name(label.numpy())\n",
        "        plt.title('Label: %s' % label)\n",
        "        plt.imshow(image.numpy())"
      ]
    },
    {
      "cell_type": "code",
      "execution_count": null,
      "metadata": {
        "colab": {
          "base_uri": "https://localhost:8080/",
          "height": 670
        },
        "id": "KPBEFUV7HM-C",
        "outputId": "e81721d0-1b9a-4524-fd58-774b1bd7d0e2"
      },
      "outputs": [
        {
          "output_type": "display_data",
          "data": {
            "text/plain": [
              "<Figure size 864x864 with 12 Axes>"
            ],
            "image/png": "[encoded data removed]"
          },
          "metadata": {
            "needs_background": "light"
          }
        }
      ],
      "source": [
        "preview_dataset(dataset_train_raw)"
      ]
    },
    {
      "cell_type": "markdown",
      "metadata": {
        "id": "iEjrfWm-5oKs"
      },
      "source": [
        "## Pre-processing the dataset"
      ]
    },
    {
      "cell_type": "markdown",
      "source": [
        "Here is the process that I would take to resize and normalize the dataset, which would be increase the accuracy of the model to up to 96 percent.\n",
        "but as it was mentioned in the assignment task to do not manipulate the validation set (and as we cant normalize only the training set) I commented this part of code."
      ],
      "metadata": {
        "id": "iZGEVCKbkNqm"
      }
    },
    {
      "cell_type": "markdown",
      "metadata": {
        "id": "xI_TSUmVFDX3"
      },
      "source": [
        "**Resizing**"
      ]
    },
    {
      "cell_type": "code",
      "execution_count": null,
      "metadata": {
        "id": "thC8cBptFGAT"
      },
      "outputs": [],
      "source": [
        "# INPUT_IMG_SIZE_ORIGINAL = dataset_info.features['image'].shape[0]\n",
        "# INPUT_IMG_SHAPE_ORIGINAL = dataset_info.features['image'].shape\n",
        "\n",
        "# INPUT_IMG_SIZE_REDUCED = INPUT_IMG_SIZE_ORIGINAL // 2\n",
        "# INPUT_IMG_SHAPE_REDUCED = (\n",
        "#     INPUT_IMG_SIZE_REDUCED,\n",
        "#     INPUT_IMG_SIZE_REDUCED,\n",
        "#     INPUT_IMG_SHAPE_ORIGINAL[2]\n",
        "# )\n",
        "\n",
        "# # Here we may switch between bigger or smaller image sized that we will train our model on.\n",
        "# INPUT_IMG_SIZE = INPUT_IMG_SIZE_REDUCED\n",
        "# INPUT_IMG_SHAPE = INPUT_IMG_SHAPE_REDUCED\n",
        "\n",
        "# print('Input image size (original):', INPUT_IMG_SIZE_ORIGINAL)\n",
        "# print('Input image shape (original):', INPUT_IMG_SHAPE_ORIGINAL)\n",
        "# print('\\n')\n",
        "# print('Input image size (reduced):', INPUT_IMG_SIZE_REDUCED)\n",
        "# print('Input image shape (reduced):', INPUT_IMG_SHAPE_REDUCED)\n",
        "# print('\\n')\n",
        "# print('Input image size:', INPUT_IMG_SIZE)\n",
        "# print('Input image shape:', INPUT_IMG_SHAPE)"
      ]
    },
    {
      "cell_type": "markdown",
      "metadata": {
        "id": "IvCjjZIX5HEs"
      },
      "source": [
        "**Normalization**"
      ]
    },
    {
      "cell_type": "code",
      "execution_count": null,
      "metadata": {
        "id": "qb2sqskM5dSW"
      },
      "outputs": [],
      "source": [
        "# for i in dataset_train_raw:\n",
        "#   print(i)\n",
        "#   break"
      ]
    },
    {
      "cell_type": "markdown",
      "metadata": {
        "id": "0800ORpC7uKi"
      },
      "source": [
        "The above output indicates that the images are in de_normalized form and pixels values are between 0 to 254. in the below we are going to normalize the images using map() method, there 2 steps to be taken: "
      ]
    },
    {
      "cell_type": "markdown",
      "metadata": {
        "id": "ZVMnhiTYDMzJ"
      },
      "source": [
        "1) Create a function to normalize the images"
      ]
    },
    {
      "cell_type": "code",
      "execution_count": null,
      "metadata": {
        "id": "OkwD8oa2DMDw"
      },
      "outputs": [],
      "source": [
        "# def normalize_image(image, label):\n",
        "#       image= tf.cast(image, tf.float32) / 255.\n",
        "#       image = tf.image.resize(image, [INPUT_IMG_SIZE, INPUT_IMG_SIZE])\n",
        "#       return image, label\n"
      ]
    },
    {
      "cell_type": "markdown",
      "metadata": {
        "id": "D5P5IpJZFoq4"
      },
      "source": [
        "2) Apply the normalize_image function to the train and test datasets using map() method"
      ]
    },
    {
      "cell_type": "code",
      "execution_count": null,
      "metadata": {
        "id": "DBG3IUfqFo8W"
      },
      "outputs": [],
      "source": [
        "# dataset_train_raw = dataset_train_raw.map(normalize_image)\n",
        "# dataset_test_raw = dataset_test_raw.map(normalize_image)"
      ]
    },
    {
      "cell_type": "code",
      "execution_count": null,
      "metadata": {
        "id": "AgGbWBc7IeQN"
      },
      "outputs": [],
      "source": [
        "# for i in dataset_train_raw:\n",
        "#   print(i)\n",
        "#   break"
      ]
    },
    {
      "cell_type": "markdown",
      "metadata": {
        "id": "rGV36rwNJg9k"
      },
      "source": [
        "In the above out put we sse images in normalized form and pixel values are betweeen 0 to 1 after applying normalize_image function to the dataset using map() method."
      ]
    },
    {
      "cell_type": "markdown",
      "source": [
        "#Model"
      ],
      "metadata": {
        "id": "qlosTtIumpJx"
      }
    },
    {
      "cell_type": "markdown",
      "source": [
        "**Parameters**\n",
        "\n",
        "\n",
        "***Epochs***:\n",
        "When a whole dataset is transported forward and backward through the neural network ONCE, it is called an Epoch.\n",
        "We also need to feed the entire dataset to the same neural network numerous times. Note that we're working with a small dataset, and we're utilizing Gradient Descent, an iterative method, to optimize the learning and the graph. As a result, simply updating the weights with a single pass or one epoch is not insufficient.\n",
        "By increasing the number of epochs , the weights in the neural network are altered more frequently, and the curve shifts from underfitting to optimal to overfitting. \n",
        "The numbers of epochs can be varied from dataset to dataset.\n",
        "\n",
        "\n",
        "<br>\n",
        "\n",
        "\n",
        "***Batch size***:\n",
        "The total numbers of training samples that present in a sing batch, called batch size. Note that the number of batchs and batch size are **not** the same.\n",
        "As it mentioned above, we can't feed the complete dataset into the neural network at once. As a result, we divide the dataset into a certain number of batches, sets, or portions.\n"
      ],
      "metadata": {
        "id": "rJItsqSSmuLG"
      }
    },
    {
      "cell_type": "code",
      "source": [
        "BATCH_SIZE = 32\n",
        "\n",
        "EPOCHS = 15"
      ],
      "metadata": {
        "id": "b65MliY_myFR"
      },
      "execution_count": null,
      "outputs": []
    },
    {
      "cell_type": "markdown",
      "source": [
        "**Network**"
      ],
      "metadata": {
        "id": "dVqVQJ6Fmyj8"
      }
    },
    {
      "cell_type": "code",
      "execution_count": null,
      "metadata": {
        "id": "u5vBVzZQnI_3"
      },
      "outputs": [],
      "source": [
        "model = tf.keras.models.Sequential()\n",
        "\n",
        "# First convolution.\n",
        "model.add(tf.keras.layers.Convolution2D(\n",
        "    input_shape=(300,300,3),\n",
        "    filters=64,\n",
        "    kernel_size=3,\n",
        "    activation=tf.keras.activations.relu\n",
        "))\n",
        "model.add(tf.keras.layers.MaxPooling2D(\n",
        "    pool_size=(2, 2),\n",
        "    strides=(2, 2)\n",
        "))\n",
        "\n",
        "# Second convolution.\n",
        "model.add(tf.keras.layers.Convolution2D(\n",
        "    filters=64,\n",
        "    kernel_size=3,\n",
        "    activation=tf.keras.activations.relu\n",
        "))\n",
        "model.add(tf.keras.layers.MaxPooling2D(\n",
        "    pool_size=(2, 2),\n",
        "    strides=(2, 2)\n",
        "))\n",
        "\n",
        "# Third convolution.\n",
        "model.add(tf.keras.layers.Convolution2D(\n",
        "    filters=128,\n",
        "    kernel_size=3,\n",
        "    activation=tf.keras.activations.relu\n",
        "))\n",
        "model.add(tf.keras.layers.MaxPooling2D(\n",
        "    pool_size=(2, 2),\n",
        "    strides=(2, 2)\n",
        "))\n",
        "\n",
        "# Fourth convolution.\n",
        "model.add(tf.keras.layers.Convolution2D(\n",
        "    filters=128,\n",
        "    kernel_size=3,\n",
        "    activation=tf.keras.activations.relu\n",
        "))\n",
        "model.add(tf.keras.layers.MaxPooling2D(\n",
        "    pool_size=(2, 2),\n",
        "    strides=(2, 2)\n",
        "))\n",
        "\n",
        "# Flatten the results to feed into dense layers.\n",
        "model.add(tf.keras.layers.Flatten())\n",
        "model.add(tf.keras.layers.Dropout(0.5))\n",
        "\n",
        "# 512 neuron dense layer.\n",
        "model.add(tf.keras.layers.Dense(\n",
        "    units=512,\n",
        "    activation=tf.keras.activations.relu\n",
        "))\n",
        "\n",
        "# Output layer.\n",
        "model.add(tf.keras.layers.Dense(\n",
        "    units=num_classes,\n",
        "    activation=tf.keras.activations.softmax\n",
        "))"
      ]
    },
    {
      "cell_type": "code",
      "execution_count": null,
      "metadata": {
        "colab": {
          "base_uri": "https://localhost:8080/"
        },
        "id": "bKsIMnmonpzE",
        "outputId": "359c9821-21b0-4250-c209-8e430335f3b4"
      },
      "outputs": [
        {
          "output_type": "stream",
          "name": "stdout",
          "text": [
            "Model: \"sequential\"\n",
            "_________________________________________________________________\n",
            " Layer (type)                Output Shape              Param #   \n",
            "=================================================================\n",
            " conv2d (Conv2D)             (None, 298, 298, 64)      1792      \n",
            "                                                                 \n",
            " max_pooling2d (MaxPooling2D  (None, 149, 149, 64)     0         \n",
            " )                                                               \n",
            "                                                                 \n",
            " conv2d_1 (Conv2D)           (None, 147, 147, 64)      36928     \n",
            "                                                                 \n",
            " max_pooling2d_1 (MaxPooling  (None, 73, 73, 64)       0         \n",
            " 2D)                                                             \n",
            "                                                                 \n",
            " conv2d_2 (Conv2D)           (None, 71, 71, 128)       73856     \n",
            "                                                                 \n",
            " max_pooling2d_2 (MaxPooling  (None, 35, 35, 128)      0         \n",
            " 2D)                                                             \n",
            "                                                                 \n",
            " conv2d_3 (Conv2D)           (None, 33, 33, 128)       147584    \n",
            "                                                                 \n",
            " max_pooling2d_3 (MaxPooling  (None, 16, 16, 128)      0         \n",
            " 2D)                                                             \n",
            "                                                                 \n",
            " flatten (Flatten)           (None, 32768)             0         \n",
            "                                                                 \n",
            " dropout (Dropout)           (None, 32768)             0         \n",
            "                                                                 \n",
            " dense (Dense)               (None, 512)               16777728  \n",
            "                                                                 \n",
            " dense_1 (Dense)             (None, 3)                 1539      \n",
            "                                                                 \n",
            "=================================================================\n",
            "Total params: 17,039,427\n",
            "Trainable params: 17,039,427\n",
            "Non-trainable params: 0\n",
            "_________________________________________________________________\n"
          ]
        }
      ],
      "source": [
        "model.summary()"
      ]
    },
    {
      "cell_type": "code",
      "execution_count": null,
      "metadata": {
        "colab": {
          "base_uri": "https://localhost:8080/",
          "height": 1418
        },
        "id": "JNoMvGE4r94I",
        "outputId": "a7285f64-706b-4e5f-f4a7-877c4aecb490"
      },
      "outputs": [
        {
          "output_type": "execute_result",
          "data": {
            "text/plain": [
              "<IPython.core.display.Image object>"
            ],
            "image/png": "[encoded data removed]"
          },
          "metadata": {},
          "execution_count": 18
        }
      ],
      "source": [
        "tf.keras.utils.plot_model(\n",
        "    model,\n",
        "    show_shapes=True,\n",
        "    show_layer_names=True,\n",
        ")"
      ]
    },
    {
      "cell_type": "markdown",
      "metadata": {
        "id": "6-htUHeKsGEL"
      },
      "source": [
        "## Compiling The Model"
      ]
    },
    {
      "cell_type": "code",
      "execution_count": null,
      "metadata": {
        "id": "H_QFKbPOsApp"
      },
      "outputs": [],
      "source": [
        "rmsprop_optimizer = tf.keras.optimizers.RMSprop(learning_rate=0.001)\n",
        "\n",
        "model.compile(\n",
        "    optimizer=rmsprop_optimizer,\n",
        "    loss=tf.keras.losses.sparse_categorical_crossentropy,\n",
        "    metrics=['accuracy']\n",
        ")"
      ]
    },
    {
      "cell_type": "code",
      "execution_count": null,
      "metadata": {
        "id": "qkdfh0b8wCMI"
      },
      "outputs": [],
      "source": [
        "!rm -rf tmp/checkpoints\n",
        "!rm -rf logs"
      ]
    },
    {
      "cell_type": "code",
      "execution_count": null,
      "metadata": {
        "id": "l12Z6iT1wCSD"
      },
      "outputs": [],
      "source": [
        "# Preparing callbacks.\n",
        "os.makedirs('logs/fit', exist_ok=True)\n",
        "tensorboard_log_dir = 'logs/fit/' + datetime.datetime.now().strftime('%Y%m%d-%H%M%S')\n",
        "tensorboard_callback = tf.keras.callbacks.TensorBoard(\n",
        "    log_dir=tensorboard_log_dir,\n",
        "    histogram_freq=1\n",
        ")\n",
        "\n",
        "os.makedirs('tmp/checkpoints', exist_ok=True)\n",
        "model_checkpoint_callback = tf.keras.callbacks.ModelCheckpoint(\n",
        "    filepath='tmp/checkpoints/weights.{epoch:02d}-{val_loss:.2f}.hdf5'\n",
        ")\n",
        "\n",
        "early_stopping_callback = tf.keras.callbacks.EarlyStopping(\n",
        "    patience=5,\n",
        "    monitor='val_accuracy'\n",
        "    # monitor='val_loss'\n",
        ")"
      ]
    },
    {
      "cell_type": "markdown",
      "source": [
        "#Training the model by using training and validation sets"
      ],
      "metadata": {
        "id": "NohLoQ5IfGY1"
      }
    },
    {
      "cell_type": "code",
      "execution_count": null,
      "metadata": {
        "colab": {
          "base_uri": "https://localhost:8080/"
        },
        "id": "to9HoIlmzg8I",
        "outputId": "0d375f3b-dd94-427e-8679-44f53811e380"
      },
      "outputs": [
        {
          "output_type": "stream",
          "name": "stdout",
          "text": [
            "Epoch 1/15\n",
            "79/79 [==============================] - 472s 6s/step - loss: 90.3214 - accuracy: 0.4833 - val_loss: 1.0097 - val_accuracy: 0.5161\n",
            "Epoch 2/15\n",
            "79/79 [==============================] - 473s 6s/step - loss: 5.7270 - accuracy: 0.5738 - val_loss: 0.8815 - val_accuracy: 0.5968\n",
            "Epoch 3/15\n",
            "79/79 [==============================] - 482s 6s/step - loss: 1.7859 - accuracy: 0.8794 - val_loss: 0.7993 - val_accuracy: 0.8656\n",
            "Epoch 4/15\n",
            "79/79 [==============================] - 482s 6s/step - loss: 0.5569 - accuracy: 0.9417 - val_loss: 2.2950 - val_accuracy: 0.7688\n",
            "Epoch 5/15\n",
            "79/79 [==============================] - 478s 6s/step - loss: 0.3713 - accuracy: 0.9619 - val_loss: 11.0212 - val_accuracy: 0.6129\n",
            "Epoch 6/15\n",
            "79/79 [==============================] - 480s 6s/step - loss: 0.1222 - accuracy: 0.9861 - val_loss: 2.8453 - val_accuracy: 0.8817\n",
            "Epoch 7/15\n",
            "79/79 [==============================] - 478s 6s/step - loss: 1.3020 - accuracy: 0.9798 - val_loss: 3.9825 - val_accuracy: 0.8441\n",
            "Epoch 8/15\n",
            "79/79 [==============================] - 478s 6s/step - loss: 2.9151 - accuracy: 0.9853 - val_loss: 6.8072 - val_accuracy: 0.7903\n",
            "Epoch 9/15\n",
            "79/79 [==============================] - 476s 6s/step - loss: 0.5458 - accuracy: 0.9825 - val_loss: 1.7780 - val_accuracy: 0.9247\n",
            "Epoch 10/15\n",
            "79/79 [==============================] - 476s 6s/step - loss: 1.4219 - accuracy: 0.9810 - val_loss: 4.0338 - val_accuracy: 0.7849\n",
            "Epoch 11/15\n",
            "79/79 [==============================] - 473s 6s/step - loss: 2.0356 - accuracy: 0.9802 - val_loss: 1.8680 - val_accuracy: 0.8763\n",
            "Epoch 12/15\n",
            "79/79 [==============================] - 475s 6s/step - loss: 0.2297 - accuracy: 0.9917 - val_loss: 7.9035 - val_accuracy: 0.8387\n",
            "Epoch 13/15\n",
            "79/79 [==============================] - 476s 6s/step - loss: 0.8925 - accuracy: 0.9897 - val_loss: 14.5702 - val_accuracy: 0.9032\n",
            "Epoch 14/15\n",
            "79/79 [==============================] - 475s 6s/step - loss: 4.7305e-11 - accuracy: 1.0000 - val_loss: 14.5688 - val_accuracy: 0.9032\n",
            "Epoch 15/15\n",
            "79/79 [==============================] - 477s 6s/step - loss: 0.0000e+00 - accuracy: 1.0000 - val_loss: 14.5689 - val_accuracy: 0.9032\n"
          ]
        }
      ],
      "source": [
        "history = model.fit(x=train_images, y=train_labels,\n",
        "                    validation_data=(valid_images, valid_labels),\n",
        "                    epochs=EPOCHS,\n",
        "                    batch_size= BATCH_SIZE )"
      ]
    },
    {
      "cell_type": "code",
      "execution_count": null,
      "metadata": {
        "colab": {
          "base_uri": "https://localhost:8080/",
          "height": 573
        },
        "id": "8S-ZSFXq0IjH",
        "outputId": "26713d54-3573-4da9-c2de-31f9a36fc689"
      },
      "outputs": [
        {
          "output_type": "display_data",
          "data": {
            "text/plain": [
              "<Figure size 432x288 with 1 Axes>"
            ],
            "image/png": "[encoded data removed]"
          },
          "metadata": {
            "needs_background": "light"
          }
        },
        {
          "output_type": "display_data",
          "data": {
            "text/plain": [
              "<Figure size 432x288 with 1 Axes>"
            ],
            "image/png": "[encoded data removed]"
          },
          "metadata": {
            "needs_background": "light"
          }
        }
      ],
      "source": [
        "from matplotlib import pyplot as plt\n",
        "\n",
        "def display_history(history):\n",
        "    \"\"\"Summarize history for accuracy and loss.\n",
        "    \"\"\"\n",
        "    plt.plot(history.history['accuracy'])\n",
        "    plt.plot(history.history['val_accuracy'])\n",
        "    plt.title('Model accuracy')\n",
        "    plt.ylabel('accuracy')\n",
        "    plt.xlabel('epoch')\n",
        "    plt.legend(['train', 'valid'], loc='upper left')\n",
        "    plt.show()\n",
        "    plt.plot(history.history['loss'])\n",
        "    plt.plot(history.history['val_loss'])\n",
        "    plt.title('Model loss')\n",
        "    plt.ylabel('loss')\n",
        "    plt.xlabel('epoch')\n",
        "    plt.legend(['train', 'valid'], loc='upper left')\n",
        "    plt.show()\n",
        "    \n",
        "display_history(history);"
      ]
    },
    {
      "cell_type": "code",
      "source": [
        "assert max(history.history['val_accuracy']) > 0.90"
      ],
      "metadata": {
        "id": "JXXNMUoHoAbG"
      },
      "execution_count": null,
      "outputs": []
    },
    {
      "cell_type": "markdown",
      "source": [
        "#Evaluating the model by using the test set"
      ],
      "metadata": {
        "id": "HHr9gUGxele4"
      }
    },
    {
      "cell_type": "code",
      "source": [
        "predictions = np.argmax(model.predict(test_images), axis=1)\n",
        "\n",
        "cm = confusion_matrix(test_labels, predictions, labels=[0, 1, 2])\n",
        "clr = classification_report(test_labels, predictions, labels=[0, 1, 2], target_names=[\"Paper\", \"Rock\", \"Scissors\"])\n",
        "\n",
        "plt.figure(figsize=(8, 8))\n",
        "sns.heatmap(cm, annot=True, fmt='g', vmin=0, cmap='Blues', cbar=False)\n",
        "plt.xticks(ticks=[0.5, 1.5, 2.5], labels=[\"Paper\", \"Rock\", \"Scissors\"])\n",
        "plt.yticks(ticks=[0.5, 1.5, 2.5], labels=[\"Paper\", \"Rock\", \"Scissors\"])\n",
        "plt.xlabel(\"Predicted\")\n",
        "plt.ylabel(\"Actual\")\n",
        "plt.title(\"Confusion Matrix\")\n",
        "plt.show()\n",
        "\n",
        "print(\"Classification Report:\\n----------------------\\n\", clr)"
      ],
      "metadata": {
        "colab": {
          "base_uri": "https://localhost:8080/",
          "height": 721
        },
        "id": "5jlsZU5d04Ye",
        "outputId": "2973e284-1a93-4cf8-c94d-33b07bc98709"
      },
      "execution_count": null,
      "outputs": [
        {
          "output_type": "display_data",
          "data": {
            "text/plain": [
              "<Figure size 576x576 with 1 Axes>"
            ],
            "image/png": "[encoded data removed]"
          },
          "metadata": {
            "needs_background": "light"
          }
        },
        {
          "output_type": "stream",
          "name": "stdout",
          "text": [
            "Classification Report:\n",
            "----------------------\n",
            "               precision    recall  f1-score   support\n",
            "\n",
            "       Paper       1.00      0.82      0.90        61\n",
            "        Rock       0.85      1.00      0.92        63\n",
            "    Scissors       0.84      0.84      0.84        62\n",
            "\n",
            "    accuracy                           0.89       186\n",
            "   macro avg       0.90      0.89      0.89       186\n",
            "weighted avg       0.90      0.89      0.89       186\n",
            "\n"
          ]
        }
      ]
    },
    {
      "cell_type": "markdown",
      "source": [
        "AS it is shown above, the model has been accurately prdicting *paper*, out of 50 samples it has prdicted all correctly precision is 1.00(TP = TP +FP). \n",
        "\n",
        "How ever among *Rock* samples the model has predict negetively 10 as a Rock instead of scissors and 1 as rock which was actually paper, out of 74 total samples model had predicted 63 correctly.percision is 0.85.\n",
        "As you can see recall is 1.00 here at that means TP = TP +FN, which means false negetive is zero, which makes sence beacuse the model has basically predicted all the samples as Rock(that is not good)\n",
        "\n",
        "Among scisers samples model predicted possetive on 52 samples, model predicted 10 as scissors which were actually papere. predictions resulting precision 0.84.\n",
        "\n",
        "As you can see evethogh model had a less negetive prediction on scissors but its precission is less than Rock,and that is beacouse the samples numbers are not even amonge our three classes, that could be also the reason model predicted paper with precision 1.00, as the number of papers's samples are the lowet among our three classes.\n",
        "\n",
        "Over all the model is a good model with a high accuracy."
      ],
      "metadata": {
        "id": "0Q4Evj7KnL_J"
      }
    },
    {
      "cell_type": "markdown",
      "source": [
        "#Saving the model\n"
      ],
      "metadata": {
        "id": "Ow3oKA-A1s6o"
      }
    },
    {
      "cell_type": "code",
      "source": [
        "model_name = 'rock_paper_scissors_cnn.h5'\n",
        "model.save(model_name, save_format='h5')"
      ],
      "metadata": {
        "id": "6u5jGolr1xMV"
      },
      "execution_count": null,
      "outputs": []
    }
  ],
  "metadata": {
    "accelerator": "GPU",
    "colab": {
      "collapsed_sections": [],
      "name": "Rock_Paper_scissers.ipynb",
      "provenance": []
    },
    "kernelspec": {
      "display_name": "Python 3",
      "name": "python3"
    },
    "language_info": {
      "name": "python"
    },
    "widgets": {
      "application/vnd.jupyter.widget-state+json": {
        "f5dd0b74db1b418685a1ba60a0cf1e0f": {
          "model_module": "@jupyter-widgets/controls",
          "model_name": "HBoxModel",
          "model_module_version": "1.5.0",
          "state": {
            "_dom_classes": [],
            "_model_module": "@jupyter-widgets/controls",
            "_model_module_version": "1.5.0",
            "_model_name": "HBoxModel",
            "_view_count": null,
            "_view_module": "@jupyter-widgets/controls",
            "_view_module_version": "1.5.0",
            "_view_name": "HBoxView",
            "box_style": "",
            "children": [
              "IPY_MODEL_9280d7e6b4214c049ad139ed8919d9ec",
              "IPY_MODEL_7719d59df03c49f7a0d86ac2a05f168a",
              "IPY_MODEL_ec9e55ccaf7a4d698645cc927c2851c5"
            ],
            "layout": "IPY_MODEL_3035586e39634529989f89fe4548ac81"
          }
        },
        "9280d7e6b4214c049ad139ed8919d9ec": {
          "model_module": "@jupyter-widgets/controls",
          "model_name": "HTMLModel",
          "model_module_version": "1.5.0",
          "state": {
            "_dom_classes": [],
            "_model_module": "@jupyter-widgets/controls",
            "_model_module_version": "1.5.0",
            "_model_name": "HTMLModel",
            "_view_count": null,
            "_view_module": "@jupyter-widgets/controls",
            "_view_module_version": "1.5.0",
            "_view_name": "HTMLView",
            "description": "",
            "description_tooltip": null,
            "layout": "IPY_MODEL_55c929167503479da48a0564046edd6c",
            "placeholder": "​",
            "style": "IPY_MODEL_12541bd812e94017a12188419645b153",
            "value": "Dl Completed...: 100%"
          }
        },
        "7719d59df03c49f7a0d86ac2a05f168a": {
          "model_module": "@jupyter-widgets/controls",
          "model_name": "FloatProgressModel",
          "model_module_version": "1.5.0",
          "state": {
            "_dom_classes": [],
            "_model_module": "@jupyter-widgets/controls",
            "_model_module_version": "1.5.0",
            "_model_name": "FloatProgressModel",
            "_view_count": null,
            "_view_module": "@jupyter-widgets/controls",
            "_view_module_version": "1.5.0",
            "_view_name": "ProgressView",
            "bar_style": "success",
            "description": "",
            "description_tooltip": null,
            "layout": "IPY_MODEL_987ba59abffc4852b3a08fc8e9346a9e",
            "max": 1,
            "min": 0,
            "orientation": "horizontal",
            "style": "IPY_MODEL_f8c7c6aa73874dccb45d2e5f207896b1",
            "value": 1
          }
        },
        "ec9e55ccaf7a4d698645cc927c2851c5": {
          "model_module": "@jupyter-widgets/controls",
          "model_name": "HTMLModel",
          "model_module_version": "1.5.0",
          "state": {
            "_dom_classes": [],
            "_model_module": "@jupyter-widgets/controls",
            "_model_module_version": "1.5.0",
            "_model_name": "HTMLModel",
            "_view_count": null,
            "_view_module": "@jupyter-widgets/controls",
            "_view_module_version": "1.5.0",
            "_view_name": "HTMLView",
            "description": "",
            "description_tooltip": null,
            "layout": "IPY_MODEL_b4cceb4f4a034beea8864adccb386876",
            "placeholder": "​",
            "style": "IPY_MODEL_a7afac346208451ba3bcf508d1552909",
            "value": " 2/2 [00:03&lt;00:00,  1.92s/ url]"
          }
        },
        "3035586e39634529989f89fe4548ac81": {
          "model_module": "@jupyter-widgets/base",
          "model_name": "LayoutModel",
          "model_module_version": "1.2.0",
          "state": {
            "_model_module": "@jupyter-widgets/base",
            "_model_module_version": "1.2.0",
            "_model_name": "LayoutModel",
            "_view_count": null,
            "_view_module": "@jupyter-widgets/base",
            "_view_module_version": "1.2.0",
            "_view_name": "LayoutView",
            "align_content": null,
            "align_items": null,
            "align_self": null,
            "border": null,
            "bottom": null,
            "display": null,
            "flex": null,
            "flex_flow": null,
            "grid_area": null,
            "grid_auto_columns": null,
            "grid_auto_flow": null,
            "grid_auto_rows": null,
            "grid_column": null,
            "grid_gap": null,
            "grid_row": null,
            "grid_template_areas": null,
            "grid_template_columns": null,
            "grid_template_rows": null,
            "height": null,
            "justify_content": null,
            "justify_items": null,
            "left": null,
            "margin": null,
            "max_height": null,
            "max_width": null,
            "min_height": null,
            "min_width": null,
            "object_fit": null,
            "object_position": null,
            "order": null,
            "overflow": null,
            "overflow_x": null,
            "overflow_y": null,
            "padding": null,
            "right": null,
            "top": null,
            "visibility": null,
            "width": null
          }
        },
        "55c929167503479da48a0564046edd6c": {
          "model_module": "@jupyter-widgets/base",
          "model_name": "LayoutModel",
          "model_module_version": "1.2.0",
          "state": {
            "_model_module": "@jupyter-widgets/base",
            "_model_module_version": "1.2.0",
            "_model_name": "LayoutModel",
            "_view_count": null,
            "_view_module": "@jupyter-widgets/base",
            "_view_module_version": "1.2.0",
            "_view_name": "LayoutView",
            "align_content": null,
            "align_items": null,
            "align_self": null,
            "border": null,
            "bottom": null,
            "display": null,
            "flex": null,
            "flex_flow": null,
            "grid_area": null,
            "grid_auto_columns": null,
            "grid_auto_flow": null,
            "grid_auto_rows": null,
            "grid_column": null,
            "grid_gap": null,
            "grid_row": null,
            "grid_template_areas": null,
            "grid_template_columns": null,
            "grid_template_rows": null,
            "height": null,
            "justify_content": null,
            "justify_items": null,
            "left": null,
            "margin": null,
            "max_height": null,
            "max_width": null,
            "min_height": null,
            "min_width": null,
            "object_fit": null,
            "object_position": null,
            "order": null,
            "overflow": null,
            "overflow_x": null,
            "overflow_y": null,
            "padding": null,
            "right": null,
            "top": null,
            "visibility": null,
            "width": null
          }
        },
        "12541bd812e94017a12188419645b153": {
          "model_module": "@jupyter-widgets/controls",
          "model_name": "DescriptionStyleModel",
          "model_module_version": "1.5.0",
          "state": {
            "_model_module": "@jupyter-widgets/controls",
            "_model_module_version": "1.5.0",
            "_model_name": "DescriptionStyleModel",
            "_view_count": null,
            "_view_module": "@jupyter-widgets/base",
            "_view_module_version": "1.2.0",
            "_view_name": "StyleView",
            "description_width": ""
          }
        },
        "987ba59abffc4852b3a08fc8e9346a9e": {
          "model_module": "@jupyter-widgets/base",
          "model_name": "LayoutModel",
          "model_module_version": "1.2.0",
          "state": {
            "_model_module": "@jupyter-widgets/base",
            "_model_module_version": "1.2.0",
            "_model_name": "LayoutModel",
            "_view_count": null,
            "_view_module": "@jupyter-widgets/base",
            "_view_module_version": "1.2.0",
            "_view_name": "LayoutView",
            "align_content": null,
            "align_items": null,
            "align_self": null,
            "border": null,
            "bottom": null,
            "display": null,
            "flex": null,
            "flex_flow": null,
            "grid_area": null,
            "grid_auto_columns": null,
            "grid_auto_flow": null,
            "grid_auto_rows": null,
            "grid_column": null,
            "grid_gap": null,
            "grid_row": null,
            "grid_template_areas": null,
            "grid_template_columns": null,
            "grid_template_rows": null,
            "height": null,
            "justify_content": null,
            "justify_items": null,
            "left": null,
            "margin": null,
            "max_height": null,
            "max_width": null,
            "min_height": null,
            "min_width": null,
            "object_fit": null,
            "object_position": null,
            "order": null,
            "overflow": null,
            "overflow_x": null,
            "overflow_y": null,
            "padding": null,
            "right": null,
            "top": null,
            "visibility": null,
            "width": "20px"
          }
        },
        "f8c7c6aa73874dccb45d2e5f207896b1": {
          "model_module": "@jupyter-widgets/controls",
          "model_name": "ProgressStyleModel",
          "model_module_version": "1.5.0",
          "state": {
            "_model_module": "@jupyter-widgets/controls",
            "_model_module_version": "1.5.0",
            "_model_name": "ProgressStyleModel",
            "_view_count": null,
            "_view_module": "@jupyter-widgets/base",
            "_view_module_version": "1.2.0",
            "_view_name": "StyleView",
            "bar_color": null,
            "description_width": ""
          }
        },
        "b4cceb4f4a034beea8864adccb386876": {
          "model_module": "@jupyter-widgets/base",
          "model_name": "LayoutModel",
          "model_module_version": "1.2.0",
          "state": {
            "_model_module": "@jupyter-widgets/base",
            "_model_module_version": "1.2.0",
            "_model_name": "LayoutModel",
            "_view_count": null,
            "_view_module": "@jupyter-widgets/base",
            "_view_module_version": "1.2.0",
            "_view_name": "LayoutView",
            "align_content": null,
            "align_items": null,
            "align_self": null,
            "border": null,
            "bottom": null,
            "display": null,
            "flex": null,
            "flex_flow": null,
            "grid_area": null,
            "grid_auto_columns": null,
            "grid_auto_flow": null,
            "grid_auto_rows": null,
            "grid_column": null,
            "grid_gap": null,
            "grid_row": null,
            "grid_template_areas": null,
            "grid_template_columns": null,
            "grid_template_rows": null,
            "height": null,
            "justify_content": null,
            "justify_items": null,
            "left": null,
            "margin": null,
            "max_height": null,
            "max_width": null,
            "min_height": null,
            "min_width": null,
            "object_fit": null,
            "object_position": null,
            "order": null,
            "overflow": null,
            "overflow_x": null,
            "overflow_y": null,
            "padding": null,
            "right": null,
            "top": null,
            "visibility": null,
            "width": null
          }
        },
        "a7afac346208451ba3bcf508d1552909": {
          "model_module": "@jupyter-widgets/controls",
          "model_name": "DescriptionStyleModel",
          "model_module_version": "1.5.0",
          "state": {
            "_model_module": "@jupyter-widgets/controls",
            "_model_module_version": "1.5.0",
            "_model_name": "DescriptionStyleModel",
            "_view_count": null,
            "_view_module": "@jupyter-widgets/base",
            "_view_module_version": "1.2.0",
            "_view_name": "StyleView",
            "description_width": ""
          }
        },
        "2f44ef04fbe7444f81a2c6697ee0e5be": {
          "model_module": "@jupyter-widgets/controls",
          "model_name": "HBoxModel",
          "model_module_version": "1.5.0",
          "state": {
            "_dom_classes": [],
            "_model_module": "@jupyter-widgets/controls",
            "_model_module_version": "1.5.0",
            "_model_name": "HBoxModel",
            "_view_count": null,
            "_view_module": "@jupyter-widgets/controls",
            "_view_module_version": "1.5.0",
            "_view_name": "HBoxView",
            "box_style": "",
            "children": [
              "IPY_MODEL_a3e4a95fd5d64f1d8ba3610bea9e0c9c",
              "IPY_MODEL_994062a841c14b599394bb006cbac336",
              "IPY_MODEL_dbcc3903f3034beb83f4d7627509bb01"
            ],
            "layout": "IPY_MODEL_b2d36e8beace4f03a61c3eb15069f6ec"
          }
        },
        "a3e4a95fd5d64f1d8ba3610bea9e0c9c": {
          "model_module": "@jupyter-widgets/controls",
          "model_name": "HTMLModel",
          "model_module_version": "1.5.0",
          "state": {
            "_dom_classes": [],
            "_model_module": "@jupyter-widgets/controls",
            "_model_module_version": "1.5.0",
            "_model_name": "HTMLModel",
            "_view_count": null,
            "_view_module": "@jupyter-widgets/controls",
            "_view_module_version": "1.5.0",
            "_view_name": "HTMLView",
            "description": "",
            "description_tooltip": null,
            "layout": "IPY_MODEL_e30adc73b2a64a6f8cbe89e475ab9e14",
            "placeholder": "​",
            "style": "IPY_MODEL_7854d8b37e9c4a00912221150d9aed5a",
            "value": "Dl Size...: 100%"
          }
        },
        "994062a841c14b599394bb006cbac336": {
          "model_module": "@jupyter-widgets/controls",
          "model_name": "FloatProgressModel",
          "model_module_version": "1.5.0",
          "state": {
            "_dom_classes": [],
            "_model_module": "@jupyter-widgets/controls",
            "_model_module_version": "1.5.0",
            "_model_name": "FloatProgressModel",
            "_view_count": null,
            "_view_module": "@jupyter-widgets/controls",
            "_view_module_version": "1.5.0",
            "_view_name": "ProgressView",
            "bar_style": "success",
            "description": "",
            "description_tooltip": null,
            "layout": "IPY_MODEL_60613a4a34f34be08c966187d4d7dfb2",
            "max": 1,
            "min": 0,
            "orientation": "horizontal",
            "style": "IPY_MODEL_983a31c151c840c0af7614551344a3c9",
            "value": 1
          }
        },
        "dbcc3903f3034beb83f4d7627509bb01": {
          "model_module": "@jupyter-widgets/controls",
          "model_name": "HTMLModel",
          "model_module_version": "1.5.0",
          "state": {
            "_dom_classes": [],
            "_model_module": "@jupyter-widgets/controls",
            "_model_module_version": "1.5.0",
            "_model_name": "HTMLModel",
            "_view_count": null,
            "_view_module": "@jupyter-widgets/controls",
            "_view_module_version": "1.5.0",
            "_view_name": "HTMLView",
            "description": "",
            "description_tooltip": null,
            "layout": "IPY_MODEL_5c819308f1f24c5393bd96f93723be02",
            "placeholder": "​",
            "style": "IPY_MODEL_1d0fd96d29cb4607924e60abffc4bec3",
            "value": " 219/219 [00:03&lt;00:00, 91.48 MiB/s]"
          }
        },
        "b2d36e8beace4f03a61c3eb15069f6ec": {
          "model_module": "@jupyter-widgets/base",
          "model_name": "LayoutModel",
          "model_module_version": "1.2.0",
          "state": {
            "_model_module": "@jupyter-widgets/base",
            "_model_module_version": "1.2.0",
            "_model_name": "LayoutModel",
            "_view_count": null,
            "_view_module": "@jupyter-widgets/base",
            "_view_module_version": "1.2.0",
            "_view_name": "LayoutView",
            "align_content": null,
            "align_items": null,
            "align_self": null,
            "border": null,
            "bottom": null,
            "display": null,
            "flex": null,
            "flex_flow": null,
            "grid_area": null,
            "grid_auto_columns": null,
            "grid_auto_flow": null,
            "grid_auto_rows": null,
            "grid_column": null,
            "grid_gap": null,
            "grid_row": null,
            "grid_template_areas": null,
            "grid_template_columns": null,
            "grid_template_rows": null,
            "height": null,
            "justify_content": null,
            "justify_items": null,
            "left": null,
            "margin": null,
            "max_height": null,
            "max_width": null,
            "min_height": null,
            "min_width": null,
            "object_fit": null,
            "object_position": null,
            "order": null,
            "overflow": null,
            "overflow_x": null,
            "overflow_y": null,
            "padding": null,
            "right": null,
            "top": null,
            "visibility": null,
            "width": null
          }
        },
        "e30adc73b2a64a6f8cbe89e475ab9e14": {
          "model_module": "@jupyter-widgets/base",
          "model_name": "LayoutModel",
          "model_module_version": "1.2.0",
          "state": {
            "_model_module": "@jupyter-widgets/base",
            "_model_module_version": "1.2.0",
            "_model_name": "LayoutModel",
            "_view_count": null,
            "_view_module": "@jupyter-widgets/base",
            "_view_module_version": "1.2.0",
            "_view_name": "LayoutView",
            "align_content": null,
            "align_items": null,
            "align_self": null,
            "border": null,
            "bottom": null,
            "display": null,
            "flex": null,
            "flex_flow": null,
            "grid_area": null,
            "grid_auto_columns": null,
            "grid_auto_flow": null,
            "grid_auto_rows": null,
            "grid_column": null,
            "grid_gap": null,
            "grid_row": null,
            "grid_template_areas": null,
            "grid_template_columns": null,
            "grid_template_rows": null,
            "height": null,
            "justify_content": null,
            "justify_items": null,
            "left": null,
            "margin": null,
            "max_height": null,
            "max_width": null,
            "min_height": null,
            "min_width": null,
            "object_fit": null,
            "object_position": null,
            "order": null,
            "overflow": null,
            "overflow_x": null,
            "overflow_y": null,
            "padding": null,
            "right": null,
            "top": null,
            "visibility": null,
            "width": null
          }
        },
        "7854d8b37e9c4a00912221150d9aed5a": {
          "model_module": "@jupyter-widgets/controls",
          "model_name": "DescriptionStyleModel",
          "model_module_version": "1.5.0",
          "state": {
            "_model_module": "@jupyter-widgets/controls",
            "_model_module_version": "1.5.0",
            "_model_name": "DescriptionStyleModel",
            "_view_count": null,
            "_view_module": "@jupyter-widgets/base",
            "_view_module_version": "1.2.0",
            "_view_name": "StyleView",
            "description_width": ""
          }
        },
        "60613a4a34f34be08c966187d4d7dfb2": {
          "model_module": "@jupyter-widgets/base",
          "model_name": "LayoutModel",
          "model_module_version": "1.2.0",
          "state": {
            "_model_module": "@jupyter-widgets/base",
            "_model_module_version": "1.2.0",
            "_model_name": "LayoutModel",
            "_view_count": null,
            "_view_module": "@jupyter-widgets/base",
            "_view_module_version": "1.2.0",
            "_view_name": "LayoutView",
            "align_content": null,
            "align_items": null,
            "align_self": null,
            "border": null,
            "bottom": null,
            "display": null,
            "flex": null,
            "flex_flow": null,
            "grid_area": null,
            "grid_auto_columns": null,
            "grid_auto_flow": null,
            "grid_auto_rows": null,
            "grid_column": null,
            "grid_gap": null,
            "grid_row": null,
            "grid_template_areas": null,
            "grid_template_columns": null,
            "grid_template_rows": null,
            "height": null,
            "justify_content": null,
            "justify_items": null,
            "left": null,
            "margin": null,
            "max_height": null,
            "max_width": null,
            "min_height": null,
            "min_width": null,
            "object_fit": null,
            "object_position": null,
            "order": null,
            "overflow": null,
            "overflow_x": null,
            "overflow_y": null,
            "padding": null,
            "right": null,
            "top": null,
            "visibility": null,
            "width": "20px"
          }
        },
        "983a31c151c840c0af7614551344a3c9": {
          "model_module": "@jupyter-widgets/controls",
          "model_name": "ProgressStyleModel",
          "model_module_version": "1.5.0",
          "state": {
            "_model_module": "@jupyter-widgets/controls",
            "_model_module_version": "1.5.0",
            "_model_name": "ProgressStyleModel",
            "_view_count": null,
            "_view_module": "@jupyter-widgets/base",
            "_view_module_version": "1.2.0",
            "_view_name": "StyleView",
            "bar_color": null,
            "description_width": ""
          }
        },
        "5c819308f1f24c5393bd96f93723be02": {
          "model_module": "@jupyter-widgets/base",
          "model_name": "LayoutModel",
          "model_module_version": "1.2.0",
          "state": {
            "_model_module": "@jupyter-widgets/base",
            "_model_module_version": "1.2.0",
            "_model_name": "LayoutModel",
            "_view_count": null,
            "_view_module": "@jupyter-widgets/base",
            "_view_module_version": "1.2.0",
            "_view_name": "LayoutView",
            "align_content": null,
            "align_items": null,
            "align_self": null,
            "border": null,
            "bottom": null,
            "display": null,
            "flex": null,
            "flex_flow": null,
            "grid_area": null,
            "grid_auto_columns": null,
            "grid_auto_flow": null,
            "grid_auto_rows": null,
            "grid_column": null,
            "grid_gap": null,
            "grid_row": null,
            "grid_template_areas": null,
            "grid_template_columns": null,
            "grid_template_rows": null,
            "height": null,
            "justify_content": null,
            "justify_items": null,
            "left": null,
            "margin": null,
            "max_height": null,
            "max_width": null,
            "min_height": null,
            "min_width": null,
            "object_fit": null,
            "object_position": null,
            "order": null,
            "overflow": null,
            "overflow_x": null,
            "overflow_y": null,
            "padding": null,
            "right": null,
            "top": null,
            "visibility": null,
            "width": null
          }
        },
        "1d0fd96d29cb4607924e60abffc4bec3": {
          "model_module": "@jupyter-widgets/controls",
          "model_name": "DescriptionStyleModel",
          "model_module_version": "1.5.0",
          "state": {
            "_model_module": "@jupyter-widgets/controls",
            "_model_module_version": "1.5.0",
            "_model_name": "DescriptionStyleModel",
            "_view_count": null,
            "_view_module": "@jupyter-widgets/base",
            "_view_module_version": "1.2.0",
            "_view_name": "StyleView",
            "description_width": ""
          }
        },
        "e6c48a0ff9c54d6cae2f8f40062142a0": {
          "model_module": "@jupyter-widgets/controls",
          "model_name": "HBoxModel",
          "model_module_version": "1.5.0",
          "state": {
            "_dom_classes": [],
            "_model_module": "@jupyter-widgets/controls",
            "_model_module_version": "1.5.0",
            "_model_name": "HBoxModel",
            "_view_count": null,
            "_view_module": "@jupyter-widgets/controls",
            "_view_module_version": "1.5.0",
            "_view_name": "HBoxView",
            "box_style": "",
            "children": [
              "IPY_MODEL_1051546b3fc34797a1c22750c070ff58",
              "IPY_MODEL_09dcbe3c4b0241438fd7e4103d0a4aa4",
              "IPY_MODEL_8e4622faae6443398e00fc6daad838d8"
            ],
            "layout": "IPY_MODEL_e70db6430e1145d9a9b5459618a620b6"
          }
        },
        "1051546b3fc34797a1c22750c070ff58": {
          "model_module": "@jupyter-widgets/controls",
          "model_name": "HTMLModel",
          "model_module_version": "1.5.0",
          "state": {
            "_dom_classes": [],
            "_model_module": "@jupyter-widgets/controls",
            "_model_module_version": "1.5.0",
            "_model_name": "HTMLModel",
            "_view_count": null,
            "_view_module": "@jupyter-widgets/controls",
            "_view_module_version": "1.5.0",
            "_view_name": "HTMLView",
            "description": "",
            "description_tooltip": null,
            "layout": "IPY_MODEL_2905f75e5dd342a6a089e72321186c09",
            "placeholder": "​",
            "style": "IPY_MODEL_d752873c2860427089287db00ba0128b",
            "value": ""
          }
        },
        "09dcbe3c4b0241438fd7e4103d0a4aa4": {
          "model_module": "@jupyter-widgets/controls",
          "model_name": "FloatProgressModel",
          "model_module_version": "1.5.0",
          "state": {
            "_dom_classes": [],
            "_model_module": "@jupyter-widgets/controls",
            "_model_module_version": "1.5.0",
            "_model_name": "FloatProgressModel",
            "_view_count": null,
            "_view_module": "@jupyter-widgets/controls",
            "_view_module_version": "1.5.0",
            "_view_name": "ProgressView",
            "bar_style": "info",
            "description": "",
            "description_tooltip": null,
            "layout": "IPY_MODEL_2563e79823324c22b4b6a9645e1751b3",
            "max": 1,
            "min": 0,
            "orientation": "horizontal",
            "style": "IPY_MODEL_02a7ead6b0c5420c907d60308be7a06b",
            "value": 1
          }
        },
        "8e4622faae6443398e00fc6daad838d8": {
          "model_module": "@jupyter-widgets/controls",
          "model_name": "HTMLModel",
          "model_module_version": "1.5.0",
          "state": {
            "_dom_classes": [],
            "_model_module": "@jupyter-widgets/controls",
            "_model_module_version": "1.5.0",
            "_model_name": "HTMLModel",
            "_view_count": null,
            "_view_module": "@jupyter-widgets/controls",
            "_view_module_version": "1.5.0",
            "_view_name": "HTMLView",
            "description": "",
            "description_tooltip": null,
            "layout": "IPY_MODEL_d98fcf3e221b4169b6c0f564e09c5422",
            "placeholder": "​",
            "style": "IPY_MODEL_a970b541f10d4a8d9817a7833dc397e0",
            "value": " 2484/0 [00:01&lt;00:00, 2077.52 examples/s]"
          }
        },
        "e70db6430e1145d9a9b5459618a620b6": {
          "model_module": "@jupyter-widgets/base",
          "model_name": "LayoutModel",
          "model_module_version": "1.2.0",
          "state": {
            "_model_module": "@jupyter-widgets/base",
            "_model_module_version": "1.2.0",
            "_model_name": "LayoutModel",
            "_view_count": null,
            "_view_module": "@jupyter-widgets/base",
            "_view_module_version": "1.2.0",
            "_view_name": "LayoutView",
            "align_content": null,
            "align_items": null,
            "align_self": null,
            "border": null,
            "bottom": null,
            "display": null,
            "flex": null,
            "flex_flow": null,
            "grid_area": null,
            "grid_auto_columns": null,
            "grid_auto_flow": null,
            "grid_auto_rows": null,
            "grid_column": null,
            "grid_gap": null,
            "grid_row": null,
            "grid_template_areas": null,
            "grid_template_columns": null,
            "grid_template_rows": null,
            "height": null,
            "justify_content": null,
            "justify_items": null,
            "left": null,
            "margin": null,
            "max_height": null,
            "max_width": null,
            "min_height": null,
            "min_width": null,
            "object_fit": null,
            "object_position": null,
            "order": null,
            "overflow": null,
            "overflow_x": null,
            "overflow_y": null,
            "padding": null,
            "right": null,
            "top": null,
            "visibility": null,
            "width": null
          }
        },
        "2905f75e5dd342a6a089e72321186c09": {
          "model_module": "@jupyter-widgets/base",
          "model_name": "LayoutModel",
          "model_module_version": "1.2.0",
          "state": {
            "_model_module": "@jupyter-widgets/base",
            "_model_module_version": "1.2.0",
            "_model_name": "LayoutModel",
            "_view_count": null,
            "_view_module": "@jupyter-widgets/base",
            "_view_module_version": "1.2.0",
            "_view_name": "LayoutView",
            "align_content": null,
            "align_items": null,
            "align_self": null,
            "border": null,
            "bottom": null,
            "display": null,
            "flex": null,
            "flex_flow": null,
            "grid_area": null,
            "grid_auto_columns": null,
            "grid_auto_flow": null,
            "grid_auto_rows": null,
            "grid_column": null,
            "grid_gap": null,
            "grid_row": null,
            "grid_template_areas": null,
            "grid_template_columns": null,
            "grid_template_rows": null,
            "height": null,
            "justify_content": null,
            "justify_items": null,
            "left": null,
            "margin": null,
            "max_height": null,
            "max_width": null,
            "min_height": null,
            "min_width": null,
            "object_fit": null,
            "object_position": null,
            "order": null,
            "overflow": null,
            "overflow_x": null,
            "overflow_y": null,
            "padding": null,
            "right": null,
            "top": null,
            "visibility": null,
            "width": null
          }
        },
        "d752873c2860427089287db00ba0128b": {
          "model_module": "@jupyter-widgets/controls",
          "model_name": "DescriptionStyleModel",
          "model_module_version": "1.5.0",
          "state": {
            "_model_module": "@jupyter-widgets/controls",
            "_model_module_version": "1.5.0",
            "_model_name": "DescriptionStyleModel",
            "_view_count": null,
            "_view_module": "@jupyter-widgets/base",
            "_view_module_version": "1.2.0",
            "_view_name": "StyleView",
            "description_width": ""
          }
        },
        "2563e79823324c22b4b6a9645e1751b3": {
          "model_module": "@jupyter-widgets/base",
          "model_name": "LayoutModel",
          "model_module_version": "1.2.0",
          "state": {
            "_model_module": "@jupyter-widgets/base",
            "_model_module_version": "1.2.0",
            "_model_name": "LayoutModel",
            "_view_count": null,
            "_view_module": "@jupyter-widgets/base",
            "_view_module_version": "1.2.0",
            "_view_name": "LayoutView",
            "align_content": null,
            "align_items": null,
            "align_self": null,
            "border": null,
            "bottom": null,
            "display": null,
            "flex": null,
            "flex_flow": null,
            "grid_area": null,
            "grid_auto_columns": null,
            "grid_auto_flow": null,
            "grid_auto_rows": null,
            "grid_column": null,
            "grid_gap": null,
            "grid_row": null,
            "grid_template_areas": null,
            "grid_template_columns": null,
            "grid_template_rows": null,
            "height": null,
            "justify_content": null,
            "justify_items": null,
            "left": null,
            "margin": null,
            "max_height": null,
            "max_width": null,
            "min_height": null,
            "min_width": null,
            "object_fit": null,
            "object_position": null,
            "order": null,
            "overflow": null,
            "overflow_x": null,
            "overflow_y": null,
            "padding": null,
            "right": null,
            "top": null,
            "visibility": null,
            "width": "20px"
          }
        },
        "02a7ead6b0c5420c907d60308be7a06b": {
          "model_module": "@jupyter-widgets/controls",
          "model_name": "ProgressStyleModel",
          "model_module_version": "1.5.0",
          "state": {
            "_model_module": "@jupyter-widgets/controls",
            "_model_module_version": "1.5.0",
            "_model_name": "ProgressStyleModel",
            "_view_count": null,
            "_view_module": "@jupyter-widgets/base",
            "_view_module_version": "1.2.0",
            "_view_name": "StyleView",
            "bar_color": null,
            "description_width": ""
          }
        },
        "d98fcf3e221b4169b6c0f564e09c5422": {
          "model_module": "@jupyter-widgets/base",
          "model_name": "LayoutModel",
          "model_module_version": "1.2.0",
          "state": {
            "_model_module": "@jupyter-widgets/base",
            "_model_module_version": "1.2.0",
            "_model_name": "LayoutModel",
            "_view_count": null,
            "_view_module": "@jupyter-widgets/base",
            "_view_module_version": "1.2.0",
            "_view_name": "LayoutView",
            "align_content": null,
            "align_items": null,
            "align_self": null,
            "border": null,
            "bottom": null,
            "display": null,
            "flex": null,
            "flex_flow": null,
            "grid_area": null,
            "grid_auto_columns": null,
            "grid_auto_flow": null,
            "grid_auto_rows": null,
            "grid_column": null,
            "grid_gap": null,
            "grid_row": null,
            "grid_template_areas": null,
            "grid_template_columns": null,
            "grid_template_rows": null,
            "height": null,
            "justify_content": null,
            "justify_items": null,
            "left": null,
            "margin": null,
            "max_height": null,
            "max_width": null,
            "min_height": null,
            "min_width": null,
            "object_fit": null,
            "object_position": null,
            "order": null,
            "overflow": null,
            "overflow_x": null,
            "overflow_y": null,
            "padding": null,
            "right": null,
            "top": null,
            "visibility": null,
            "width": null
          }
        },
        "a970b541f10d4a8d9817a7833dc397e0": {
          "model_module": "@jupyter-widgets/controls",
          "model_name": "DescriptionStyleModel",
          "model_module_version": "1.5.0",
          "state": {
            "_model_module": "@jupyter-widgets/controls",
            "_model_module_version": "1.5.0",
            "_model_name": "DescriptionStyleModel",
            "_view_count": null,
            "_view_module": "@jupyter-widgets/base",
            "_view_module_version": "1.2.0",
            "_view_name": "StyleView",
            "description_width": ""
          }
        },
        "2398a241380f4ee9b5fa89048cb2f607": {
          "model_module": "@jupyter-widgets/controls",
          "model_name": "HBoxModel",
          "model_module_version": "1.5.0",
          "state": {
            "_dom_classes": [],
            "_model_module": "@jupyter-widgets/controls",
            "_model_module_version": "1.5.0",
            "_model_name": "HBoxModel",
            "_view_count": null,
            "_view_module": "@jupyter-widgets/controls",
            "_view_module_version": "1.5.0",
            "_view_name": "HBoxView",
            "box_style": "",
            "children": [
              "IPY_MODEL_4b835473eda943ce855fc5d1ff349aa7",
              "IPY_MODEL_56f08bad690e4f9eb8996f34f088d542",
              "IPY_MODEL_d07b1dea86b444779e9389297fdcf978"
            ],
            "layout": "IPY_MODEL_41c3bf5963524497aaed4a6c58294273"
          }
        },
        "4b835473eda943ce855fc5d1ff349aa7": {
          "model_module": "@jupyter-widgets/controls",
          "model_name": "HTMLModel",
          "model_module_version": "1.5.0",
          "state": {
            "_dom_classes": [],
            "_model_module": "@jupyter-widgets/controls",
            "_model_module_version": "1.5.0",
            "_model_name": "HTMLModel",
            "_view_count": null,
            "_view_module": "@jupyter-widgets/controls",
            "_view_module_version": "1.5.0",
            "_view_name": "HTMLView",
            "description": "",
            "description_tooltip": null,
            "layout": "IPY_MODEL_d8758aae99f6440a9866fcc9e823e8f9",
            "placeholder": "​",
            "style": "IPY_MODEL_b6e8d6d4b62c497faf3041c6328e24cb",
            "value": "100%"
          }
        },
        "56f08bad690e4f9eb8996f34f088d542": {
          "model_module": "@jupyter-widgets/controls",
          "model_name": "FloatProgressModel",
          "model_module_version": "1.5.0",
          "state": {
            "_dom_classes": [],
            "_model_module": "@jupyter-widgets/controls",
            "_model_module_version": "1.5.0",
            "_model_name": "FloatProgressModel",
            "_view_count": null,
            "_view_module": "@jupyter-widgets/controls",
            "_view_module_version": "1.5.0",
            "_view_name": "ProgressView",
            "bar_style": "danger",
            "description": "",
            "description_tooltip": null,
            "layout": "IPY_MODEL_c8dee46eca62485aabf0b1830970c6c8",
            "max": 2520,
            "min": 0,
            "orientation": "horizontal",
            "style": "IPY_MODEL_e002ca9301d041fea94e43ed14c13740",
            "value": 2519
          }
        },
        "d07b1dea86b444779e9389297fdcf978": {
          "model_module": "@jupyter-widgets/controls",
          "model_name": "HTMLModel",
          "model_module_version": "1.5.0",
          "state": {
            "_dom_classes": [],
            "_model_module": "@jupyter-widgets/controls",
            "_model_module_version": "1.5.0",
            "_model_name": "HTMLModel",
            "_view_count": null,
            "_view_module": "@jupyter-widgets/controls",
            "_view_module_version": "1.5.0",
            "_view_name": "HTMLView",
            "description": "",
            "description_tooltip": null,
            "layout": "IPY_MODEL_df53c27fbd234846b3f0f2d48be74f0d",
            "placeholder": "​",
            "style": "IPY_MODEL_9b79517f143242769ea69240e831e785",
            "value": " 2519/2520 [00:00&lt;00:00, 7785.28 examples/s]"
          }
        },
        "41c3bf5963524497aaed4a6c58294273": {
          "model_module": "@jupyter-widgets/base",
          "model_name": "LayoutModel",
          "model_module_version": "1.2.0",
          "state": {
            "_model_module": "@jupyter-widgets/base",
            "_model_module_version": "1.2.0",
            "_model_name": "LayoutModel",
            "_view_count": null,
            "_view_module": "@jupyter-widgets/base",
            "_view_module_version": "1.2.0",
            "_view_name": "LayoutView",
            "align_content": null,
            "align_items": null,
            "align_self": null,
            "border": null,
            "bottom": null,
            "display": null,
            "flex": null,
            "flex_flow": null,
            "grid_area": null,
            "grid_auto_columns": null,
            "grid_auto_flow": null,
            "grid_auto_rows": null,
            "grid_column": null,
            "grid_gap": null,
            "grid_row": null,
            "grid_template_areas": null,
            "grid_template_columns": null,
            "grid_template_rows": null,
            "height": null,
            "justify_content": null,
            "justify_items": null,
            "left": null,
            "margin": null,
            "max_height": null,
            "max_width": null,
            "min_height": null,
            "min_width": null,
            "object_fit": null,
            "object_position": null,
            "order": null,
            "overflow": null,
            "overflow_x": null,
            "overflow_y": null,
            "padding": null,
            "right": null,
            "top": null,
            "visibility": null,
            "width": null
          }
        },
        "d8758aae99f6440a9866fcc9e823e8f9": {
          "model_module": "@jupyter-widgets/base",
          "model_name": "LayoutModel",
          "model_module_version": "1.2.0",
          "state": {
            "_model_module": "@jupyter-widgets/base",
            "_model_module_version": "1.2.0",
            "_model_name": "LayoutModel",
            "_view_count": null,
            "_view_module": "@jupyter-widgets/base",
            "_view_module_version": "1.2.0",
            "_view_name": "LayoutView",
            "align_content": null,
            "align_items": null,
            "align_self": null,
            "border": null,
            "bottom": null,
            "display": null,
            "flex": null,
            "flex_flow": null,
            "grid_area": null,
            "grid_auto_columns": null,
            "grid_auto_flow": null,
            "grid_auto_rows": null,
            "grid_column": null,
            "grid_gap": null,
            "grid_row": null,
            "grid_template_areas": null,
            "grid_template_columns": null,
            "grid_template_rows": null,
            "height": null,
            "justify_content": null,
            "justify_items": null,
            "left": null,
            "margin": null,
            "max_height": null,
            "max_width": null,
            "min_height": null,
            "min_width": null,
            "object_fit": null,
            "object_position": null,
            "order": null,
            "overflow": null,
            "overflow_x": null,
            "overflow_y": null,
            "padding": null,
            "right": null,
            "top": null,
            "visibility": null,
            "width": null
          }
        },
        "b6e8d6d4b62c497faf3041c6328e24cb": {
          "model_module": "@jupyter-widgets/controls",
          "model_name": "DescriptionStyleModel",
          "model_module_version": "1.5.0",
          "state": {
            "_model_module": "@jupyter-widgets/controls",
            "_model_module_version": "1.5.0",
            "_model_name": "DescriptionStyleModel",
            "_view_count": null,
            "_view_module": "@jupyter-widgets/base",
            "_view_module_version": "1.2.0",
            "_view_name": "StyleView",
            "description_width": ""
          }
        },
        "c8dee46eca62485aabf0b1830970c6c8": {
          "model_module": "@jupyter-widgets/base",
          "model_name": "LayoutModel",
          "model_module_version": "1.2.0",
          "state": {
            "_model_module": "@jupyter-widgets/base",
            "_model_module_version": "1.2.0",
            "_model_name": "LayoutModel",
            "_view_count": null,
            "_view_module": "@jupyter-widgets/base",
            "_view_module_version": "1.2.0",
            "_view_name": "LayoutView",
            "align_content": null,
            "align_items": null,
            "align_self": null,
            "border": null,
            "bottom": null,
            "display": null,
            "flex": null,
            "flex_flow": null,
            "grid_area": null,
            "grid_auto_columns": null,
            "grid_auto_flow": null,
            "grid_auto_rows": null,
            "grid_column": null,
            "grid_gap": null,
            "grid_row": null,
            "grid_template_areas": null,
            "grid_template_columns": null,
            "grid_template_rows": null,
            "height": null,
            "justify_content": null,
            "justify_items": null,
            "left": null,
            "margin": null,
            "max_height": null,
            "max_width": null,
            "min_height": null,
            "min_width": null,
            "object_fit": null,
            "object_position": null,
            "order": null,
            "overflow": null,
            "overflow_x": null,
            "overflow_y": null,
            "padding": null,
            "right": null,
            "top": null,
            "visibility": null,
            "width": null
          }
        },
        "e002ca9301d041fea94e43ed14c13740": {
          "model_module": "@jupyter-widgets/controls",
          "model_name": "ProgressStyleModel",
          "model_module_version": "1.5.0",
          "state": {
            "_model_module": "@jupyter-widgets/controls",
            "_model_module_version": "1.5.0",
            "_model_name": "ProgressStyleModel",
            "_view_count": null,
            "_view_module": "@jupyter-widgets/base",
            "_view_module_version": "1.2.0",
            "_view_name": "StyleView",
            "bar_color": null,
            "description_width": ""
          }
        },
        "df53c27fbd234846b3f0f2d48be74f0d": {
          "model_module": "@jupyter-widgets/base",
          "model_name": "LayoutModel",
          "model_module_version": "1.2.0",
          "state": {
            "_model_module": "@jupyter-widgets/base",
            "_model_module_version": "1.2.0",
            "_model_name": "LayoutModel",
            "_view_count": null,
            "_view_module": "@jupyter-widgets/base",
            "_view_module_version": "1.2.0",
            "_view_name": "LayoutView",
            "align_content": null,
            "align_items": null,
            "align_self": null,
            "border": null,
            "bottom": null,
            "display": null,
            "flex": null,
            "flex_flow": null,
            "grid_area": null,
            "grid_auto_columns": null,
            "grid_auto_flow": null,
            "grid_auto_rows": null,
            "grid_column": null,
            "grid_gap": null,
            "grid_row": null,
            "grid_template_areas": null,
            "grid_template_columns": null,
            "grid_template_rows": null,
            "height": null,
            "justify_content": null,
            "justify_items": null,
            "left": null,
            "margin": null,
            "max_height": null,
            "max_width": null,
            "min_height": null,
            "min_width": null,
            "object_fit": null,
            "object_position": null,
            "order": null,
            "overflow": null,
            "overflow_x": null,
            "overflow_y": null,
            "padding": null,
            "right": null,
            "top": null,
            "visibility": null,
            "width": null
          }
        },
        "9b79517f143242769ea69240e831e785": {
          "model_module": "@jupyter-widgets/controls",
          "model_name": "DescriptionStyleModel",
          "model_module_version": "1.5.0",
          "state": {
            "_model_module": "@jupyter-widgets/controls",
            "_model_module_version": "1.5.0",
            "_model_name": "DescriptionStyleModel",
            "_view_count": null,
            "_view_module": "@jupyter-widgets/base",
            "_view_module_version": "1.2.0",
            "_view_name": "StyleView",
            "description_width": ""
          }
        },
        "b950018e77d94732b538910993752714": {
          "model_module": "@jupyter-widgets/controls",
          "model_name": "HBoxModel",
          "model_module_version": "1.5.0",
          "state": {
            "_dom_classes": [],
            "_model_module": "@jupyter-widgets/controls",
            "_model_module_version": "1.5.0",
            "_model_name": "HBoxModel",
            "_view_count": null,
            "_view_module": "@jupyter-widgets/controls",
            "_view_module_version": "1.5.0",
            "_view_name": "HBoxView",
            "box_style": "",
            "children": [
              "IPY_MODEL_6431ececa7304fb1870ae68450e42c20",
              "IPY_MODEL_de646c49dfd54e51bcbd2195fdf916c9",
              "IPY_MODEL_9928762ab29e4aaba22654b8a238f0a6"
            ],
            "layout": "IPY_MODEL_a001149f6af0495eacf2bf93c8863917"
          }
        },
        "6431ececa7304fb1870ae68450e42c20": {
          "model_module": "@jupyter-widgets/controls",
          "model_name": "HTMLModel",
          "model_module_version": "1.5.0",
          "state": {
            "_dom_classes": [],
            "_model_module": "@jupyter-widgets/controls",
            "_model_module_version": "1.5.0",
            "_model_name": "HTMLModel",
            "_view_count": null,
            "_view_module": "@jupyter-widgets/controls",
            "_view_module_version": "1.5.0",
            "_view_name": "HTMLView",
            "description": "",
            "description_tooltip": null,
            "layout": "IPY_MODEL_7b052ed755554d7084089ac786683658",
            "placeholder": "​",
            "style": "IPY_MODEL_3238e7c7821b467ab3cf098b1d3131f3",
            "value": ""
          }
        },
        "de646c49dfd54e51bcbd2195fdf916c9": {
          "model_module": "@jupyter-widgets/controls",
          "model_name": "FloatProgressModel",
          "model_module_version": "1.5.0",
          "state": {
            "_dom_classes": [],
            "_model_module": "@jupyter-widgets/controls",
            "_model_module_version": "1.5.0",
            "_model_name": "FloatProgressModel",
            "_view_count": null,
            "_view_module": "@jupyter-widgets/controls",
            "_view_module_version": "1.5.0",
            "_view_name": "ProgressView",
            "bar_style": "info",
            "description": "",
            "description_tooltip": null,
            "layout": "IPY_MODEL_a703d7403f4242baa5679a466867fabc",
            "max": 1,
            "min": 0,
            "orientation": "horizontal",
            "style": "IPY_MODEL_4a6261c5591a485eb54c94f8149442a8",
            "value": 1
          }
        },
        "9928762ab29e4aaba22654b8a238f0a6": {
          "model_module": "@jupyter-widgets/controls",
          "model_name": "HTMLModel",
          "model_module_version": "1.5.0",
          "state": {
            "_dom_classes": [],
            "_model_module": "@jupyter-widgets/controls",
            "_model_module_version": "1.5.0",
            "_model_name": "HTMLModel",
            "_view_count": null,
            "_view_module": "@jupyter-widgets/controls",
            "_view_module_version": "1.5.0",
            "_view_name": "HTMLView",
            "description": "",
            "description_tooltip": null,
            "layout": "IPY_MODEL_e64d75c1cfed42d59b811a5015336de0",
            "placeholder": "​",
            "style": "IPY_MODEL_d0cb6e9187b14a9f82c7743325f439e7",
            "value": " 306/0 [00:00&lt;00:00, 1611.76 examples/s]"
          }
        },
        "a001149f6af0495eacf2bf93c8863917": {
          "model_module": "@jupyter-widgets/base",
          "model_name": "LayoutModel",
          "model_module_version": "1.2.0",
          "state": {
            "_model_module": "@jupyter-widgets/base",
            "_model_module_version": "1.2.0",
            "_model_name": "LayoutModel",
            "_view_count": null,
            "_view_module": "@jupyter-widgets/base",
            "_view_module_version": "1.2.0",
            "_view_name": "LayoutView",
            "align_content": null,
            "align_items": null,
            "align_self": null,
            "border": null,
            "bottom": null,
            "display": null,
            "flex": null,
            "flex_flow": null,
            "grid_area": null,
            "grid_auto_columns": null,
            "grid_auto_flow": null,
            "grid_auto_rows": null,
            "grid_column": null,
            "grid_gap": null,
            "grid_row": null,
            "grid_template_areas": null,
            "grid_template_columns": null,
            "grid_template_rows": null,
            "height": null,
            "justify_content": null,
            "justify_items": null,
            "left": null,
            "margin": null,
            "max_height": null,
            "max_width": null,
            "min_height": null,
            "min_width": null,
            "object_fit": null,
            "object_position": null,
            "order": null,
            "overflow": null,
            "overflow_x": null,
            "overflow_y": null,
            "padding": null,
            "right": null,
            "top": null,
            "visibility": null,
            "width": null
          }
        },
        "7b052ed755554d7084089ac786683658": {
          "model_module": "@jupyter-widgets/base",
          "model_name": "LayoutModel",
          "model_module_version": "1.2.0",
          "state": {
            "_model_module": "@jupyter-widgets/base",
            "_model_module_version": "1.2.0",
            "_model_name": "LayoutModel",
            "_view_count": null,
            "_view_module": "@jupyter-widgets/base",
            "_view_module_version": "1.2.0",
            "_view_name": "LayoutView",
            "align_content": null,
            "align_items": null,
            "align_self": null,
            "border": null,
            "bottom": null,
            "display": null,
            "flex": null,
            "flex_flow": null,
            "grid_area": null,
            "grid_auto_columns": null,
            "grid_auto_flow": null,
            "grid_auto_rows": null,
            "grid_column": null,
            "grid_gap": null,
            "grid_row": null,
            "grid_template_areas": null,
            "grid_template_columns": null,
            "grid_template_rows": null,
            "height": null,
            "justify_content": null,
            "justify_items": null,
            "left": null,
            "margin": null,
            "max_height": null,
            "max_width": null,
            "min_height": null,
            "min_width": null,
            "object_fit": null,
            "object_position": null,
            "order": null,
            "overflow": null,
            "overflow_x": null,
            "overflow_y": null,
            "padding": null,
            "right": null,
            "top": null,
            "visibility": null,
            "width": null
          }
        },
        "3238e7c7821b467ab3cf098b1d3131f3": {
          "model_module": "@jupyter-widgets/controls",
          "model_name": "DescriptionStyleModel",
          "model_module_version": "1.5.0",
          "state": {
            "_model_module": "@jupyter-widgets/controls",
            "_model_module_version": "1.5.0",
            "_model_name": "DescriptionStyleModel",
            "_view_count": null,
            "_view_module": "@jupyter-widgets/base",
            "_view_module_version": "1.2.0",
            "_view_name": "StyleView",
            "description_width": ""
          }
        },
        "a703d7403f4242baa5679a466867fabc": {
          "model_module": "@jupyter-widgets/base",
          "model_name": "LayoutModel",
          "model_module_version": "1.2.0",
          "state": {
            "_model_module": "@jupyter-widgets/base",
            "_model_module_version": "1.2.0",
            "_model_name": "LayoutModel",
            "_view_count": null,
            "_view_module": "@jupyter-widgets/base",
            "_view_module_version": "1.2.0",
            "_view_name": "LayoutView",
            "align_content": null,
            "align_items": null,
            "align_self": null,
            "border": null,
            "bottom": null,
            "display": null,
            "flex": null,
            "flex_flow": null,
            "grid_area": null,
            "grid_auto_columns": null,
            "grid_auto_flow": null,
            "grid_auto_rows": null,
            "grid_column": null,
            "grid_gap": null,
            "grid_row": null,
            "grid_template_areas": null,
            "grid_template_columns": null,
            "grid_template_rows": null,
            "height": null,
            "justify_content": null,
            "justify_items": null,
            "left": null,
            "margin": null,
            "max_height": null,
            "max_width": null,
            "min_height": null,
            "min_width": null,
            "object_fit": null,
            "object_position": null,
            "order": null,
            "overflow": null,
            "overflow_x": null,
            "overflow_y": null,
            "padding": null,
            "right": null,
            "top": null,
            "visibility": null,
            "width": "20px"
          }
        },
        "4a6261c5591a485eb54c94f8149442a8": {
          "model_module": "@jupyter-widgets/controls",
          "model_name": "ProgressStyleModel",
          "model_module_version": "1.5.0",
          "state": {
            "_model_module": "@jupyter-widgets/controls",
            "_model_module_version": "1.5.0",
            "_model_name": "ProgressStyleModel",
            "_view_count": null,
            "_view_module": "@jupyter-widgets/base",
            "_view_module_version": "1.2.0",
            "_view_name": "StyleView",
            "bar_color": null,
            "description_width": ""
          }
        },
        "e64d75c1cfed42d59b811a5015336de0": {
          "model_module": "@jupyter-widgets/base",
          "model_name": "LayoutModel",
          "model_module_version": "1.2.0",
          "state": {
            "_model_module": "@jupyter-widgets/base",
            "_model_module_version": "1.2.0",
            "_model_name": "LayoutModel",
            "_view_count": null,
            "_view_module": "@jupyter-widgets/base",
            "_view_module_version": "1.2.0",
            "_view_name": "LayoutView",
            "align_content": null,
            "align_items": null,
            "align_self": null,
            "border": null,
            "bottom": null,
            "display": null,
            "flex": null,
            "flex_flow": null,
            "grid_area": null,
            "grid_auto_columns": null,
            "grid_auto_flow": null,
            "grid_auto_rows": null,
            "grid_column": null,
            "grid_gap": null,
            "grid_row": null,
            "grid_template_areas": null,
            "grid_template_columns": null,
            "grid_template_rows": null,
            "height": null,
            "justify_content": null,
            "justify_items": null,
            "left": null,
            "margin": null,
            "max_height": null,
            "max_width": null,
            "min_height": null,
            "min_width": null,
            "object_fit": null,
            "object_position": null,
            "order": null,
            "overflow": null,
            "overflow_x": null,
            "overflow_y": null,
            "padding": null,
            "right": null,
            "top": null,
            "visibility": null,
            "width": null
          }
        },
        "d0cb6e9187b14a9f82c7743325f439e7": {
          "model_module": "@jupyter-widgets/controls",
          "model_name": "DescriptionStyleModel",
          "model_module_version": "1.5.0",
          "state": {
            "_model_module": "@jupyter-widgets/controls",
            "_model_module_version": "1.5.0",
            "_model_name": "DescriptionStyleModel",
            "_view_count": null,
            "_view_module": "@jupyter-widgets/base",
            "_view_module_version": "1.2.0",
            "_view_name": "StyleView",
            "description_width": ""
          }
        },
        "4a3b9ad040e04fb9ab8874860c2e192f": {
          "model_module": "@jupyter-widgets/controls",
          "model_name": "HBoxModel",
          "model_module_version": "1.5.0",
          "state": {
            "_dom_classes": [],
            "_model_module": "@jupyter-widgets/controls",
            "_model_module_version": "1.5.0",
            "_model_name": "HBoxModel",
            "_view_count": null,
            "_view_module": "@jupyter-widgets/controls",
            "_view_module_version": "1.5.0",
            "_view_name": "HBoxView",
            "box_style": "",
            "children": [
              "IPY_MODEL_56da17bb7fca429fb0809fca75ee75d3",
              "IPY_MODEL_843acac1cb22485fb6b01b13410c1a15",
              "IPY_MODEL_adc0015744354f749923babd462a94e0"
            ],
            "layout": "IPY_MODEL_fbd3c4f5dd4a4c6cba47bbdf5195f1df"
          }
        },
        "56da17bb7fca429fb0809fca75ee75d3": {
          "model_module": "@jupyter-widgets/controls",
          "model_name": "HTMLModel",
          "model_module_version": "1.5.0",
          "state": {
            "_dom_classes": [],
            "_model_module": "@jupyter-widgets/controls",
            "_model_module_version": "1.5.0",
            "_model_name": "HTMLModel",
            "_view_count": null,
            "_view_module": "@jupyter-widgets/controls",
            "_view_module_version": "1.5.0",
            "_view_name": "HTMLView",
            "description": "",
            "description_tooltip": null,
            "layout": "IPY_MODEL_f882031fd96b477e8a7579497f8e3737",
            "placeholder": "​",
            "style": "IPY_MODEL_82a617f004324bd39bdd3ab500f49b27",
            "value": "100%"
          }
        },
        "843acac1cb22485fb6b01b13410c1a15": {
          "model_module": "@jupyter-widgets/controls",
          "model_name": "FloatProgressModel",
          "model_module_version": "1.5.0",
          "state": {
            "_dom_classes": [],
            "_model_module": "@jupyter-widgets/controls",
            "_model_module_version": "1.5.0",
            "_model_name": "FloatProgressModel",
            "_view_count": null,
            "_view_module": "@jupyter-widgets/controls",
            "_view_module_version": "1.5.0",
            "_view_name": "ProgressView",
            "bar_style": "danger",
            "description": "",
            "description_tooltip": null,
            "layout": "IPY_MODEL_51f7b8a5681043e1987dc00f07d4389e",
            "max": 372,
            "min": 0,
            "orientation": "horizontal",
            "style": "IPY_MODEL_ba8c333d9e6a465399878c15ba64eb69",
            "value": 371
          }
        },
        "adc0015744354f749923babd462a94e0": {
          "model_module": "@jupyter-widgets/controls",
          "model_name": "HTMLModel",
          "model_module_version": "1.5.0",
          "state": {
            "_dom_classes": [],
            "_model_module": "@jupyter-widgets/controls",
            "_model_module_version": "1.5.0",
            "_model_name": "HTMLModel",
            "_view_count": null,
            "_view_module": "@jupyter-widgets/controls",
            "_view_module_version": "1.5.0",
            "_view_name": "HTMLView",
            "description": "",
            "description_tooltip": null,
            "layout": "IPY_MODEL_6a496f52727646eda1884f9976c7141d",
            "placeholder": "​",
            "style": "IPY_MODEL_a95966d7b67646a5b62ad4a3d1c1a45a",
            "value": " 371/372 [00:00&lt;00:00, 4162.04 examples/s]"
          }
        },
        "fbd3c4f5dd4a4c6cba47bbdf5195f1df": {
          "model_module": "@jupyter-widgets/base",
          "model_name": "LayoutModel",
          "model_module_version": "1.2.0",
          "state": {
            "_model_module": "@jupyter-widgets/base",
            "_model_module_version": "1.2.0",
            "_model_name": "LayoutModel",
            "_view_count": null,
            "_view_module": "@jupyter-widgets/base",
            "_view_module_version": "1.2.0",
            "_view_name": "LayoutView",
            "align_content": null,
            "align_items": null,
            "align_self": null,
            "border": null,
            "bottom": null,
            "display": null,
            "flex": null,
            "flex_flow": null,
            "grid_area": null,
            "grid_auto_columns": null,
            "grid_auto_flow": null,
            "grid_auto_rows": null,
            "grid_column": null,
            "grid_gap": null,
            "grid_row": null,
            "grid_template_areas": null,
            "grid_template_columns": null,
            "grid_template_rows": null,
            "height": null,
            "justify_content": null,
            "justify_items": null,
            "left": null,
            "margin": null,
            "max_height": null,
            "max_width": null,
            "min_height": null,
            "min_width": null,
            "object_fit": null,
            "object_position": null,
            "order": null,
            "overflow": null,
            "overflow_x": null,
            "overflow_y": null,
            "padding": null,
            "right": null,
            "top": null,
            "visibility": null,
            "width": null
          }
        },
        "f882031fd96b477e8a7579497f8e3737": {
          "model_module": "@jupyter-widgets/base",
          "model_name": "LayoutModel",
          "model_module_version": "1.2.0",
          "state": {
            "_model_module": "@jupyter-widgets/base",
            "_model_module_version": "1.2.0",
            "_model_name": "LayoutModel",
            "_view_count": null,
            "_view_module": "@jupyter-widgets/base",
            "_view_module_version": "1.2.0",
            "_view_name": "LayoutView",
            "align_content": null,
            "align_items": null,
            "align_self": null,
            "border": null,
            "bottom": null,
            "display": null,
            "flex": null,
            "flex_flow": null,
            "grid_area": null,
            "grid_auto_columns": null,
            "grid_auto_flow": null,
            "grid_auto_rows": null,
            "grid_column": null,
            "grid_gap": null,
            "grid_row": null,
            "grid_template_areas": null,
            "grid_template_columns": null,
            "grid_template_rows": null,
            "height": null,
            "justify_content": null,
            "justify_items": null,
            "left": null,
            "margin": null,
            "max_height": null,
            "max_width": null,
            "min_height": null,
            "min_width": null,
            "object_fit": null,
            "object_position": null,
            "order": null,
            "overflow": null,
            "overflow_x": null,
            "overflow_y": null,
            "padding": null,
            "right": null,
            "top": null,
            "visibility": null,
            "width": null
          }
        },
        "82a617f004324bd39bdd3ab500f49b27": {
          "model_module": "@jupyter-widgets/controls",
          "model_name": "DescriptionStyleModel",
          "model_module_version": "1.5.0",
          "state": {
            "_model_module": "@jupyter-widgets/controls",
            "_model_module_version": "1.5.0",
            "_model_name": "DescriptionStyleModel",
            "_view_count": null,
            "_view_module": "@jupyter-widgets/base",
            "_view_module_version": "1.2.0",
            "_view_name": "StyleView",
            "description_width": ""
          }
        },
        "51f7b8a5681043e1987dc00f07d4389e": {
          "model_module": "@jupyter-widgets/base",
          "model_name": "LayoutModel",
          "model_module_version": "1.2.0",
          "state": {
            "_model_module": "@jupyter-widgets/base",
            "_model_module_version": "1.2.0",
            "_model_name": "LayoutModel",
            "_view_count": null,
            "_view_module": "@jupyter-widgets/base",
            "_view_module_version": "1.2.0",
            "_view_name": "LayoutView",
            "align_content": null,
            "align_items": null,
            "align_self": null,
            "border": null,
            "bottom": null,
            "display": null,
            "flex": null,
            "flex_flow": null,
            "grid_area": null,
            "grid_auto_columns": null,
            "grid_auto_flow": null,
            "grid_auto_rows": null,
            "grid_column": null,
            "grid_gap": null,
            "grid_row": null,
            "grid_template_areas": null,
            "grid_template_columns": null,
            "grid_template_rows": null,
            "height": null,
            "justify_content": null,
            "justify_items": null,
            "left": null,
            "margin": null,
            "max_height": null,
            "max_width": null,
            "min_height": null,
            "min_width": null,
            "object_fit": null,
            "object_position": null,
            "order": null,
            "overflow": null,
            "overflow_x": null,
            "overflow_y": null,
            "padding": null,
            "right": null,
            "top": null,
            "visibility": null,
            "width": null
          }
        },
        "ba8c333d9e6a465399878c15ba64eb69": {
          "model_module": "@jupyter-widgets/controls",
          "model_name": "ProgressStyleModel",
          "model_module_version": "1.5.0",
          "state": {
            "_model_module": "@jupyter-widgets/controls",
            "_model_module_version": "1.5.0",
            "_model_name": "ProgressStyleModel",
            "_view_count": null,
            "_view_module": "@jupyter-widgets/base",
            "_view_module_version": "1.2.0",
            "_view_name": "StyleView",
            "bar_color": null,
            "description_width": ""
          }
        },
        "6a496f52727646eda1884f9976c7141d": {
          "model_module": "@jupyter-widgets/base",
          "model_name": "LayoutModel",
          "model_module_version": "1.2.0",
          "state": {
            "_model_module": "@jupyter-widgets/base",
            "_model_module_version": "1.2.0",
            "_model_name": "LayoutModel",
            "_view_count": null,
            "_view_module": "@jupyter-widgets/base",
            "_view_module_version": "1.2.0",
            "_view_name": "LayoutView",
            "align_content": null,
            "align_items": null,
            "align_self": null,
            "border": null,
            "bottom": null,
            "display": null,
            "flex": null,
            "flex_flow": null,
            "grid_area": null,
            "grid_auto_columns": null,
            "grid_auto_flow": null,
            "grid_auto_rows": null,
            "grid_column": null,
            "grid_gap": null,
            "grid_row": null,
            "grid_template_areas": null,
            "grid_template_columns": null,
            "grid_template_rows": null,
            "height": null,
            "justify_content": null,
            "justify_items": null,
            "left": null,
            "margin": null,
            "max_height": null,
            "max_width": null,
            "min_height": null,
            "min_width": null,
            "object_fit": null,
            "object_position": null,
            "order": null,
            "overflow": null,
            "overflow_x": null,
            "overflow_y": null,
            "padding": null,
            "right": null,
            "top": null,
            "visibility": null,
            "width": null
          }
        },
        "a95966d7b67646a5b62ad4a3d1c1a45a": {
          "model_module": "@jupyter-widgets/controls",
          "model_name": "DescriptionStyleModel",
          "model_module_version": "1.5.0",
          "state": {
            "_model_module": "@jupyter-widgets/controls",
            "_model_module_version": "1.5.0",
            "_model_name": "DescriptionStyleModel",
            "_view_count": null,
            "_view_module": "@jupyter-widgets/base",
            "_view_module_version": "1.2.0",
            "_view_name": "StyleView",
            "description_width": ""
          }
        }
      }
    }
  },
  "nbformat": 4,
  "nbformat_minor": 0
}